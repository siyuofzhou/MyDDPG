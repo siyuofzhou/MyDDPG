{
 "cells": [
  {
   "cell_type": "markdown",
   "metadata": {},
   "source": [
    "###### 列表"
   ]
  },
  {
   "cell_type": "code",
   "execution_count": null,
   "metadata": {},
   "outputs": [],
   "source": [
    "a = [1,2,3,4]"
   ]
  },
  {
   "cell_type": "code",
   "execution_count": 5,
   "metadata": {
    "collapsed": true,
    "jupyter": {
     "outputs_hidden": true
    }
   },
   "outputs": [
    {
     "name": "stdout",
     "output_type": "stream",
     "text": [
      "1\n",
      "2\n",
      "3\n"
     ]
    }
   ],
   "source": [
    "for i in a[:-1]:\n",
    "    print(i)"
   ]
  },
  {
   "cell_type": "code",
   "execution_count": null,
   "metadata": {},
   "outputs": [],
   "source": [
    "tf.concat([t1,t2],0) #在维度0上连接t1,t2 "
   ]
  },
  {
   "cell_type": "raw",
   "metadata": {},
   "source": [
    "t1 = [[1, 2, 3], [4, 5, 6]]\n",
    "t2 = [[7, 8, 9], [10, 11, 12]]\n",
    "tf.concat([t1, t2], 0) ==> [[1, 2, 3], [4, 5, 6], [7, 8, 9], [10, 11, 12]]\n",
    "tf.concat([t1, t2], 1) ==> [[1, 2, 3, 7, 8, 9], [4, 5, 6, 10, 11, 12]]\n",
    "tf.stack([t1, t2], 0)  ==> [[[1, 2, 3], [4, 5, 6]], [[7, 8, 9], [10, 11, 12]]]\n",
    "tf.stack([t1, t2], 1)  ==> [[[1, 2, 3], [7, 8, 9]], [[4, 5, 6], [10, 11, 12]]]\n",
    "tf.stack([t1, t2], 2)  ==> [[[1, 7], [2, 8], [3, 9]], [[4, 10], [5, 11], [6, 12]]]"
   ]
  },
  {
   "cell_type": "markdown",
   "metadata": {},
   "source": [
    "### tf.gradients"
   ]
  },
  {
   "cell_type": "raw",
   "metadata": {},
   "source": [
    "1. xs和ys可以是一个张量，也可以是张量列表，tf.gradients(ys,xs) 实现的功能是求ys（如果ys是列表，那就是ys中所有元素之和）关于xs的导数（如果xs是列表，那就是xs中每一个元素分别求导），返回值是一个与xs长度相同的列表。\n",
    "\n",
    "例如ys=[y1,y2,y3], xs=[x1,x2,x3,x4]，那么tf.gradients(ys,xs)=[d(y1+y2+y3)/dx1,d(y1+y2+y3)/dx2,d(y1+y2+y3)/dx3,d(y1+y2+y3)/dx4].具体例子见下面代码第16-17行。\n",
    "\n",
    "2. grad_ys 是ys的加权向量列表，和ys长度相同，当grad_ys=[q1,q2,g3]时，tf.gradients(ys,xs，grad_ys)=[d(g1*y1+g2*y2+g3*y3)/dx1,d(g1*y1+g2*y2+g3*y3)/dx2,d(g1*y1+g2*y2+g3*y3)/dx3,d(g1*y1+g2*y2+g3*y3)/dx4].具体例子见下面代码第19-21行。\n",
    "3. stop_gradients使得指定变量不被求导，即视为常量，具体的例子见官方例子，此处省略。"
   ]
  },
  {
   "cell_type": "code",
   "execution_count": null,
   "metadata": {},
   "outputs": [],
   "source": [
    "import tensorflow as tf\n",
    "w1 = tf.Variable([[1,2]])\n",
    "w2 = tf.Variable([[3,4]])\n",
    "res = tf.matmul(w1, [[2],[1]])\n",
    "\n",
    "#ys必须与xs有关，否则会报错\n",
    "# grads = tf.gradients(res,[w1,w2])\n",
    "#TypeError: Fetch argument None has invalid type <class 'NoneType'>\n",
    "\n",
    "# grads = tf.gradients(res,[w1])\n",
    "# # Result [array([[2, 1]])]\n",
    "\n",
    "res2a=tf.matmul(w1, [[2],[1]])+tf.matmul(w2, [[3],[5]])\n",
    "res2b=tf.matmul(w1, [[2],[4]])+tf.matmul(w2, [[8],[6]])\n",
    "\n",
    "# grads = tf.gradients([res2a,res2b],[w1,w2])\n",
    "#result:[array([[4, 5]]), array([[11, 11]])]\n",
    "\n",
    "grad_ys=[tf.Variable([[1]]),tf.Variable([[2]])]\n",
    "grads = tf.gradients([res2a,res2b],[w1,w2],grad_ys=grad_ys)\n",
    "# Result: [array([[6, 9]]), array([[19, 17]])]\n",
    "\n",
    "with tf.Session() as sess:\n",
    "    tf.global_variables_initializer().run()\n",
    "    re = sess.run(grads)\n",
    "    print(re)"
   ]
  },
  {
   "cell_type": "markdown",
   "metadata": {},
   "source": [
    "### compute_gradients和apply_gradients"
   ]
  },
  {
   "cell_type": "raw",
   "metadata": {},
   "source": [
    "compute_gradients 用于计算梯度\n",
    "apply_gradients 根据计算出的梯度和学习率修改参数\n",
    "使用这两者需要先定义一个优化器,下面定义了tf.train.AdamOptimizer()\n",
    "参数解释：\n",
    "loss: 损失函数\n",
    "var_list: 需要计算梯度的变量列表，可以使用tf.get_collocetion()获得变量列表\n",
    "grads_and_vars: compute_gradients返回值，其中记录变列表和对应的梯度列表\n",
    "global_step: 全局步长，每次梯度更新后会自动加一\n",
    "\n",
    "这两个过程是minimize()函数的核心方法，将其分开可以用于梯度修剪"
   ]
  },
  {
   "cell_type": "code",
   "execution_count": null,
   "metadata": {},
   "outputs": [],
   "source": [
    "opt = tf.train.AdamOptimizer()\n",
    "grads_and_vars = opt.compute_gradients(loss,var_list=var_list)\n",
    "opt.apply_gradients(grads_and_vars, global_step=global_step,name=name)"
   ]
  },
  {
   "cell_type": "code",
   "execution_count": null,
   "metadata": {},
   "outputs": [],
   "source": [
    "def minimize(self, loss, global_step=None, var_list=None, name=None):\n",
    "    grads_and_vars = self.compute_gradients(loss, var_list=var_list)\n",
    "    vars_with_grad = [v for g, v in grads_and_vars if g is not None]\n",
    "    if not vars_with_grad:\n",
    "        raise ValueError(\n",
    "          \"No gradients provided for any variable, check your graph for ops\"\n",
    "          \" that do not support gradients, between variables %s and loss %s.\" %\n",
    "          ([str(v) for _, v in grads_and_vars], loss))\n",
    "    return self.apply_gradients(grads_and_vars, global_step=global_step,\n",
    "                                name=name)"
   ]
  },
  {
   "cell_type": "markdown",
   "metadata": {},
   "source": [
    "### tf.Variable & tf.get_variable"
   ]
  },
  {
   "cell_type": "raw",
   "metadata": {},
   "source": [
    "tf.Variable 可以用来生成常量，全局步长global_step变量使用tf.Variable生成\n",
    "tf.get_variable 不可以"
   ]
  },
  {
   "cell_type": "code",
   "execution_count": 7,
   "metadata": {
    "collapsed": true,
    "jupyter": {
     "outputs_hidden": true
    }
   },
   "outputs": [
    {
     "name": "stderr",
     "output_type": "stream",
     "text": [
      "d:\\python\\lib\\site-packages\\tensorflow\\python\\framework\\dtypes.py:516: FutureWarning: Passing (type, 1) or '1type' as a synonym of type is deprecated; in a future version of numpy, it will be understood as (type, (1,)) / '(1,)type'.\n",
      "  _np_qint8 = np.dtype([(\"qint8\", np.int8, 1)])\n",
      "d:\\python\\lib\\site-packages\\tensorflow\\python\\framework\\dtypes.py:517: FutureWarning: Passing (type, 1) or '1type' as a synonym of type is deprecated; in a future version of numpy, it will be understood as (type, (1,)) / '(1,)type'.\n",
      "  _np_quint8 = np.dtype([(\"quint8\", np.uint8, 1)])\n",
      "d:\\python\\lib\\site-packages\\tensorflow\\python\\framework\\dtypes.py:518: FutureWarning: Passing (type, 1) or '1type' as a synonym of type is deprecated; in a future version of numpy, it will be understood as (type, (1,)) / '(1,)type'.\n",
      "  _np_qint16 = np.dtype([(\"qint16\", np.int16, 1)])\n",
      "d:\\python\\lib\\site-packages\\tensorflow\\python\\framework\\dtypes.py:519: FutureWarning: Passing (type, 1) or '1type' as a synonym of type is deprecated; in a future version of numpy, it will be understood as (type, (1,)) / '(1,)type'.\n",
      "  _np_quint16 = np.dtype([(\"quint16\", np.uint16, 1)])\n",
      "d:\\python\\lib\\site-packages\\tensorflow\\python\\framework\\dtypes.py:520: FutureWarning: Passing (type, 1) or '1type' as a synonym of type is deprecated; in a future version of numpy, it will be understood as (type, (1,)) / '(1,)type'.\n",
      "  _np_qint32 = np.dtype([(\"qint32\", np.int32, 1)])\n",
      "d:\\python\\lib\\site-packages\\tensorflow\\python\\framework\\dtypes.py:525: FutureWarning: Passing (type, 1) or '1type' as a synonym of type is deprecated; in a future version of numpy, it will be understood as (type, (1,)) / '(1,)type'.\n",
      "  np_resource = np.dtype([(\"resource\", np.ubyte, 1)])\n",
      "d:\\python\\lib\\site-packages\\tensorboard\\compat\\tensorflow_stub\\dtypes.py:541: FutureWarning: Passing (type, 1) or '1type' as a synonym of type is deprecated; in a future version of numpy, it will be understood as (type, (1,)) / '(1,)type'.\n",
      "  _np_qint8 = np.dtype([(\"qint8\", np.int8, 1)])\n",
      "d:\\python\\lib\\site-packages\\tensorboard\\compat\\tensorflow_stub\\dtypes.py:542: FutureWarning: Passing (type, 1) or '1type' as a synonym of type is deprecated; in a future version of numpy, it will be understood as (type, (1,)) / '(1,)type'.\n",
      "  _np_quint8 = np.dtype([(\"quint8\", np.uint8, 1)])\n",
      "d:\\python\\lib\\site-packages\\tensorboard\\compat\\tensorflow_stub\\dtypes.py:543: FutureWarning: Passing (type, 1) or '1type' as a synonym of type is deprecated; in a future version of numpy, it will be understood as (type, (1,)) / '(1,)type'.\n",
      "  _np_qint16 = np.dtype([(\"qint16\", np.int16, 1)])\n",
      "d:\\python\\lib\\site-packages\\tensorboard\\compat\\tensorflow_stub\\dtypes.py:544: FutureWarning: Passing (type, 1) or '1type' as a synonym of type is deprecated; in a future version of numpy, it will be understood as (type, (1,)) / '(1,)type'.\n",
      "  _np_quint16 = np.dtype([(\"quint16\", np.uint16, 1)])\n",
      "d:\\python\\lib\\site-packages\\tensorboard\\compat\\tensorflow_stub\\dtypes.py:545: FutureWarning: Passing (type, 1) or '1type' as a synonym of type is deprecated; in a future version of numpy, it will be understood as (type, (1,)) / '(1,)type'.\n",
      "  _np_qint32 = np.dtype([(\"qint32\", np.int32, 1)])\n",
      "d:\\python\\lib\\site-packages\\tensorboard\\compat\\tensorflow_stub\\dtypes.py:550: FutureWarning: Passing (type, 1) or '1type' as a synonym of type is deprecated; in a future version of numpy, it will be understood as (type, (1,)) / '(1,)type'.\n",
      "  np_resource = np.dtype([(\"resource\", np.ubyte, 1)])\n"
     ]
    }
   ],
   "source": [
    "import tensorflow as tf"
   ]
  },
  {
   "cell_type": "code",
   "execution_count": 82,
   "metadata": {},
   "outputs": [
    {
     "name": "stdout",
     "output_type": "stream",
     "text": [
      "1\n"
     ]
    }
   ],
   "source": [
    "tf.reset_default_graph()\n",
    "\n",
    "#a = tf.get_variable('w',shape= initializer=tf.zeros_initializer())\n",
    "a = tf.Variable(0)\n",
    "c = tf.assign_add(a,1)\n",
    "\n",
    "with tf.Session() as sess:\n",
    "    sess.run(tf.global_variables_initializer())\n",
    "    d = sess.run(c)\n",
    "    print(d)"
   ]
  },
  {
   "cell_type": "markdown",
   "metadata": {},
   "source": [
    "### 模型保存与加载"
   ]
  },
  {
   "cell_type": "code",
   "execution_count": null,
   "metadata": {},
   "outputs": [],
   "source": [
    "Saver = tf.train.Saver() \n",
    "#创建保存器tf.train.Saver()中 var_list参数可以控制保存或加载的变量\n",
    "with tf.Session() as sess:\n",
    "    ...\n",
    "    #保存模型\n",
    "    (1)Saver.save(sess,save_path,global_step=global_step)\n",
    "    #加载模型\n",
    "    (2)Saver.restore(sess,save_path)"
   ]
  },
  {
   "cell_type": "markdown",
   "metadata": {},
   "source": [
    "### tf.concatenate()"
   ]
  },
  {
   "cell_type": "raw",
   "metadata": {},
   "source": [
    "a = np.zeros((1,5))\n",
    "b = np.ones((1,5))\n",
    "a,b\n",
    "> (array([[0., 0., 0., 0., 0.]]), array([[1., 1., 1., 1., 1.]]))"
   ]
  },
  {
   "cell_type": "raw",
   "metadata": {},
   "source": [
    "c = np.concatenate([a,b],0)\n",
    "c.shape\n",
    "> (2, 5)"
   ]
  },
  {
   "cell_type": "raw",
   "metadata": {},
   "source": [
    "a = np.array([1,2,3])\n",
    "b = 3\n",
    "c = [1,2]\n",
    "np.concatenate((a,[b],c))\n",
    "> array([1, 2, 3, 3, 1, 2])"
   ]
  },
  {
   "cell_type": "markdown",
   "metadata": {},
   "source": [
    "### numpy 文件读写"
   ]
  },
  {
   "cell_type": "code",
   "execution_count": null,
   "metadata": {},
   "outputs": [],
   "source": [
    "arr1 = np.array([1,2,3])\n",
    "\n",
    "#save() 函数是以二进制的格式保存数据; \n",
    "np.save('./save_arr',arr1) \n",
    "\n",
    "#load() 函数是从二进制的文件中读取数据\n",
    "arr3 = np.load('./save_arr.npy')\n",
    "\n",
    "#多数组写入与读取\n",
    "a = np.array([1,2,3])\n",
    "b = np.array([2,3,1])\n",
    "c = np.array([2,3,1])\n",
    "np.savez('./save_arr',a=a,b=b,ada=c)\n",
    "p = np.load('./save_arr.npz')\n",
    "p['ada']\n",
    "#> array([2, 3, 1])"
   ]
  },
  {
   "cell_type": "markdown",
   "metadata": {},
   "source": [
    "### np.clip()"
   ]
  },
  {
   "cell_type": "code",
   "execution_count": null,
   "metadata": {},
   "outputs": [],
   "source": [
    "import numpy as np\n",
    "\n",
    "a = np.random.normal(size=(2,2))\n",
    "#> array([[-0.22658854, -1.05319543],\n",
    "#       [ 0.31245237,  0.10252636]])\n",
    "       \n",
    "np.clip(a,-1.0,1.0)\n",
    "#> array([[-0.22658854, -1.        ],\n",
    "#       [ 0.31245237,  0.10252636]])\n",
    "       "
   ]
  },
  {
   "cell_type": "code",
   "execution_count": 14,
   "metadata": {},
   "outputs": [],
   "source": [
    "import numpy as np"
   ]
  },
  {
   "cell_type": "code",
   "execution_count": 45,
   "metadata": {},
   "outputs": [],
   "source": [
    "a1 = np.random.randint(0,high=2,size=(2,2))\n",
    "a2 = np.random.randint(0,high=5,size=(2,2))\n",
    "a1,a2\n",
    "\n",
    "# >(array([[0, 1],\n",
    "#        [1, 1]]), array([[3, 0],\n",
    "#        [3, 1]]))\n",
    "\n",
    "b = np.array([i for i in range(10)]).reshape(2,5)\n",
    "# >array([[0, 1, 2, 3, 4],\n",
    "#       [5, 6, 7, 8, 9]])\n",
    "\n",
    "b[a1,a2]\n",
    "# >array([[3, 5],\n",
    "#       [8, 6]])\n",
    "    "
   ]
  },
  {
   "cell_type": "code",
   "execution_count": 53,
   "metadata": {},
   "outputs": [],
   "source": [
    "a1 = np.random.randint(0,high=2,size=(2))\n",
    "b = np.array([i for i in range(10)]).reshape(2,5)\n",
    "a1,b[a1,:]\n",
    "#> (array([0, 1]), array([[0, 1, 2, 3, 4],\n",
    "#        [5, 6, 7, 8, 9]]))"
   ]
  },
  {
   "cell_type": "code",
   "execution_count": 1,
   "metadata": {
    "collapsed": true,
    "jupyter": {
     "outputs_hidden": true
    }
   },
   "outputs": [
    {
     "name": "stderr",
     "output_type": "stream",
     "text": [
      "d:\\python\\lib\\site-packages\\tensorflow\\python\\framework\\dtypes.py:516: FutureWarning: Passing (type, 1) or '1type' as a synonym of type is deprecated; in a future version of numpy, it will be understood as (type, (1,)) / '(1,)type'.\n",
      "  _np_qint8 = np.dtype([(\"qint8\", np.int8, 1)])\n",
      "d:\\python\\lib\\site-packages\\tensorflow\\python\\framework\\dtypes.py:517: FutureWarning: Passing (type, 1) or '1type' as a synonym of type is deprecated; in a future version of numpy, it will be understood as (type, (1,)) / '(1,)type'.\n",
      "  _np_quint8 = np.dtype([(\"quint8\", np.uint8, 1)])\n",
      "d:\\python\\lib\\site-packages\\tensorflow\\python\\framework\\dtypes.py:518: FutureWarning: Passing (type, 1) or '1type' as a synonym of type is deprecated; in a future version of numpy, it will be understood as (type, (1,)) / '(1,)type'.\n",
      "  _np_qint16 = np.dtype([(\"qint16\", np.int16, 1)])\n",
      "d:\\python\\lib\\site-packages\\tensorflow\\python\\framework\\dtypes.py:519: FutureWarning: Passing (type, 1) or '1type' as a synonym of type is deprecated; in a future version of numpy, it will be understood as (type, (1,)) / '(1,)type'.\n",
      "  _np_quint16 = np.dtype([(\"quint16\", np.uint16, 1)])\n",
      "d:\\python\\lib\\site-packages\\tensorflow\\python\\framework\\dtypes.py:520: FutureWarning: Passing (type, 1) or '1type' as a synonym of type is deprecated; in a future version of numpy, it will be understood as (type, (1,)) / '(1,)type'.\n",
      "  _np_qint32 = np.dtype([(\"qint32\", np.int32, 1)])\n",
      "d:\\python\\lib\\site-packages\\tensorflow\\python\\framework\\dtypes.py:525: FutureWarning: Passing (type, 1) or '1type' as a synonym of type is deprecated; in a future version of numpy, it will be understood as (type, (1,)) / '(1,)type'.\n",
      "  np_resource = np.dtype([(\"resource\", np.ubyte, 1)])\n",
      "d:\\python\\lib\\site-packages\\tensorboard\\compat\\tensorflow_stub\\dtypes.py:541: FutureWarning: Passing (type, 1) or '1type' as a synonym of type is deprecated; in a future version of numpy, it will be understood as (type, (1,)) / '(1,)type'.\n",
      "  _np_qint8 = np.dtype([(\"qint8\", np.int8, 1)])\n",
      "d:\\python\\lib\\site-packages\\tensorboard\\compat\\tensorflow_stub\\dtypes.py:542: FutureWarning: Passing (type, 1) or '1type' as a synonym of type is deprecated; in a future version of numpy, it will be understood as (type, (1,)) / '(1,)type'.\n",
      "  _np_quint8 = np.dtype([(\"quint8\", np.uint8, 1)])\n",
      "d:\\python\\lib\\site-packages\\tensorboard\\compat\\tensorflow_stub\\dtypes.py:543: FutureWarning: Passing (type, 1) or '1type' as a synonym of type is deprecated; in a future version of numpy, it will be understood as (type, (1,)) / '(1,)type'.\n",
      "  _np_qint16 = np.dtype([(\"qint16\", np.int16, 1)])\n",
      "d:\\python\\lib\\site-packages\\tensorboard\\compat\\tensorflow_stub\\dtypes.py:544: FutureWarning: Passing (type, 1) or '1type' as a synonym of type is deprecated; in a future version of numpy, it will be understood as (type, (1,)) / '(1,)type'.\n",
      "  _np_quint16 = np.dtype([(\"quint16\", np.uint16, 1)])\n",
      "d:\\python\\lib\\site-packages\\tensorboard\\compat\\tensorflow_stub\\dtypes.py:545: FutureWarning: Passing (type, 1) or '1type' as a synonym of type is deprecated; in a future version of numpy, it will be understood as (type, (1,)) / '(1,)type'.\n",
      "  _np_qint32 = np.dtype([(\"qint32\", np.int32, 1)])\n",
      "d:\\python\\lib\\site-packages\\tensorboard\\compat\\tensorflow_stub\\dtypes.py:550: FutureWarning: Passing (type, 1) or '1type' as a synonym of type is deprecated; in a future version of numpy, it will be understood as (type, (1,)) / '(1,)type'.\n",
      "  np_resource = np.dtype([(\"resource\", np.ubyte, 1)])\n"
     ]
    }
   ],
   "source": [
    "import tensorflow as tf"
   ]
  },
  {
   "cell_type": "code",
   "execution_count": 5,
   "metadata": {},
   "outputs": [],
   "source": [
    "tf.reset_default_graph()\n",
    "a = tf.get_variable('a/w/c',shape=(1,2))\n",
    "b = tf.get_variable('a/p/d',shape=(1,2))"
   ]
  },
  {
   "cell_type": "code",
   "execution_count": 8,
   "metadata": {},
   "outputs": [],
   "source": [
    "with tf.Session() as sess:\n",
    "    sess.run(tf.global_variables_initializer())\n",
    "    d = tf.get_collection(tf.GraphKeys.GLOBAL_VARIABLES,scope='a/p')"
   ]
  },
  {
   "cell_type": "code",
   "execution_count": 9,
   "metadata": {},
   "outputs": [
    {
     "data": {
      "text/plain": [
       "[<tf.Variable 'a/p/d:0' shape=(1, 2) dtype=float32_ref>]"
      ]
     },
     "execution_count": 9,
     "metadata": {},
     "output_type": "execute_result"
    }
   ],
   "source": [
    "d"
   ]
  },
  {
   "cell_type": "code",
   "execution_count": 63,
   "metadata": {},
   "outputs": [
    {
     "data": {
      "text/plain": [
       "('w:0',\n",
       " <bound method RefVariable.value of <tf.Variable 'w:0' shape=(1, 2) dtype=float32_ref>>)"
      ]
     },
     "execution_count": 63,
     "metadata": {},
     "output_type": "execute_result"
    }
   ],
   "source": [
    "d[0].name,d[0].value"
   ]
  },
  {
   "cell_type": "code",
   "execution_count": 66,
   "metadata": {},
   "outputs": [],
   "source": [
    "p = {}"
   ]
  },
  {
   "cell_type": "code",
   "execution_count": 67,
   "metadata": {},
   "outputs": [],
   "source": [
    "p['w:0'] = d[0]"
   ]
  },
  {
   "cell_type": "code",
   "execution_count": 68,
   "metadata": {},
   "outputs": [
    {
     "data": {
      "text/plain": [
       "<tf.Variable 'w:0' shape=(1, 2) dtype=float32_ref>"
      ]
     },
     "execution_count": 68,
     "metadata": {},
     "output_type": "execute_result"
    }
   ],
   "source": [
    "p['w:0']"
   ]
  },
  {
   "cell_type": "markdown",
   "metadata": {},
   "source": [
    "#### numpy"
   ]
  },
  {
   "cell_type": "code",
   "execution_count": 27,
   "metadata": {},
   "outputs": [],
   "source": [
    "import numpy as np\n",
    "a = np.array([])\n",
    "a.shape[0]\n",
    "#> 0\n",
    "b = np.array([1,1,1])\n",
    "c = np.append(a,b)\n",
    "\n",
    "a = np.zeros((3,3))\n",
    "b = np.ones(3)\n",
    "a[0] = b\n",
    "a\n",
    "#> array([[1., 1., 1.],\n",
    "#       [0., 0., 0.],\n",
    "#       [0., 0., 0.]])"
   ]
  },
  {
   "cell_type": "code",
   "execution_count": 1,
   "metadata": {},
   "outputs": [],
   "source": [
    "import numpy as np"
   ]
  },
  {
   "cell_type": "code",
   "execution_count": 6,
   "metadata": {},
   "outputs": [],
   "source": [
    "e = 1e-8\n",
    "f = 0.5\n",
    "a = np.log2(1/e)*e + np.log2(1/(1-e))*(1-e)\n",
    "b = np.log2(1/f)*f + np.log2(1/(1-f))*(1-f)"
   ]
  },
  {
   "cell_type": "code",
   "execution_count": 7,
   "metadata": {},
   "outputs": [
    {
     "data": {
      "text/plain": [
       "(2.8018119801613763e-07, 1.0)"
      ]
     },
     "execution_count": 7,
     "metadata": {},
     "output_type": "execute_result"
    }
   ],
   "source": [
    "a,b"
   ]
  },
  {
   "cell_type": "code",
   "execution_count": 1,
   "metadata": {
    "collapsed": true,
    "jupyter": {
     "outputs_hidden": true
    }
   },
   "outputs": [
    {
     "name": "stderr",
     "output_type": "stream",
     "text": [
      "d:\\python\\lib\\site-packages\\tensorflow\\python\\framework\\dtypes.py:516: FutureWarning: Passing (type, 1) or '1type' as a synonym of type is deprecated; in a future version of numpy, it will be understood as (type, (1,)) / '(1,)type'.\n",
      "  _np_qint8 = np.dtype([(\"qint8\", np.int8, 1)])\n",
      "d:\\python\\lib\\site-packages\\tensorflow\\python\\framework\\dtypes.py:517: FutureWarning: Passing (type, 1) or '1type' as a synonym of type is deprecated; in a future version of numpy, it will be understood as (type, (1,)) / '(1,)type'.\n",
      "  _np_quint8 = np.dtype([(\"quint8\", np.uint8, 1)])\n",
      "d:\\python\\lib\\site-packages\\tensorflow\\python\\framework\\dtypes.py:518: FutureWarning: Passing (type, 1) or '1type' as a synonym of type is deprecated; in a future version of numpy, it will be understood as (type, (1,)) / '(1,)type'.\n",
      "  _np_qint16 = np.dtype([(\"qint16\", np.int16, 1)])\n",
      "d:\\python\\lib\\site-packages\\tensorflow\\python\\framework\\dtypes.py:519: FutureWarning: Passing (type, 1) or '1type' as a synonym of type is deprecated; in a future version of numpy, it will be understood as (type, (1,)) / '(1,)type'.\n",
      "  _np_quint16 = np.dtype([(\"quint16\", np.uint16, 1)])\n",
      "d:\\python\\lib\\site-packages\\tensorflow\\python\\framework\\dtypes.py:520: FutureWarning: Passing (type, 1) or '1type' as a synonym of type is deprecated; in a future version of numpy, it will be understood as (type, (1,)) / '(1,)type'.\n",
      "  _np_qint32 = np.dtype([(\"qint32\", np.int32, 1)])\n",
      "d:\\python\\lib\\site-packages\\tensorflow\\python\\framework\\dtypes.py:525: FutureWarning: Passing (type, 1) or '1type' as a synonym of type is deprecated; in a future version of numpy, it will be understood as (type, (1,)) / '(1,)type'.\n",
      "  np_resource = np.dtype([(\"resource\", np.ubyte, 1)])\n",
      "d:\\python\\lib\\site-packages\\tensorboard\\compat\\tensorflow_stub\\dtypes.py:541: FutureWarning: Passing (type, 1) or '1type' as a synonym of type is deprecated; in a future version of numpy, it will be understood as (type, (1,)) / '(1,)type'.\n",
      "  _np_qint8 = np.dtype([(\"qint8\", np.int8, 1)])\n",
      "d:\\python\\lib\\site-packages\\tensorboard\\compat\\tensorflow_stub\\dtypes.py:542: FutureWarning: Passing (type, 1) or '1type' as a synonym of type is deprecated; in a future version of numpy, it will be understood as (type, (1,)) / '(1,)type'.\n",
      "  _np_quint8 = np.dtype([(\"quint8\", np.uint8, 1)])\n",
      "d:\\python\\lib\\site-packages\\tensorboard\\compat\\tensorflow_stub\\dtypes.py:543: FutureWarning: Passing (type, 1) or '1type' as a synonym of type is deprecated; in a future version of numpy, it will be understood as (type, (1,)) / '(1,)type'.\n",
      "  _np_qint16 = np.dtype([(\"qint16\", np.int16, 1)])\n",
      "d:\\python\\lib\\site-packages\\tensorboard\\compat\\tensorflow_stub\\dtypes.py:544: FutureWarning: Passing (type, 1) or '1type' as a synonym of type is deprecated; in a future version of numpy, it will be understood as (type, (1,)) / '(1,)type'.\n",
      "  _np_quint16 = np.dtype([(\"quint16\", np.uint16, 1)])\n",
      "d:\\python\\lib\\site-packages\\tensorboard\\compat\\tensorflow_stub\\dtypes.py:545: FutureWarning: Passing (type, 1) or '1type' as a synonym of type is deprecated; in a future version of numpy, it will be understood as (type, (1,)) / '(1,)type'.\n",
      "  _np_qint32 = np.dtype([(\"qint32\", np.int32, 1)])\n",
      "d:\\python\\lib\\site-packages\\tensorboard\\compat\\tensorflow_stub\\dtypes.py:550: FutureWarning: Passing (type, 1) or '1type' as a synonym of type is deprecated; in a future version of numpy, it will be understood as (type, (1,)) / '(1,)type'.\n",
      "  np_resource = np.dtype([(\"resource\", np.ubyte, 1)])\n"
     ]
    }
   ],
   "source": [
    "import tensorflow as tf"
   ]
  },
  {
   "cell_type": "code",
   "execution_count": 52,
   "metadata": {},
   "outputs": [],
   "source": [
    "tf.reset_default_graph()\n",
    "a = tf.Variable([[[[2.0,10.0],[2.0,1.0]],[[2.0,10.0],[2.0,10.0]]],[[[2.0,10.0],[2.0,10.0]],[[2.0,10.0],[2.0,10.0]]]])"
   ]
  },
  {
   "cell_type": "code",
   "execution_count": 53,
   "metadata": {
    "collapsed": true,
    "jupyter": {
     "outputs_hidden": true
    }
   },
   "outputs": [
    {
     "name": "stdout",
     "output_type": "stream",
     "text": [
      "WARNING:tensorflow:Entity <bound method BatchNormalization.call of <tensorflow.python.layers.normalization.BatchNormalization object at 0x0000000014F411C8>> could not be transformed and will be executed as-is. Please report this to the AutgoGraph team. When filing the bug, set the verbosity to 10 (on Linux, `export AUTOGRAPH_VERBOSITY=10`) and attach the full output. Cause: converting <bound method BatchNormalization.call of <tensorflow.python.layers.normalization.BatchNormalization object at 0x0000000014F411C8>>: AssertionError: Bad argument number for Name: 3, expecting 4\n",
      "WARNING: Entity <bound method BatchNormalization.call of <tensorflow.python.layers.normalization.BatchNormalization object at 0x0000000014F411C8>> could not be transformed and will be executed as-is. Please report this to the AutgoGraph team. When filing the bug, set the verbosity to 10 (on Linux, `export AUTOGRAPH_VERBOSITY=10`) and attach the full output. Cause: converting <bound method BatchNormalization.call of <tensorflow.python.layers.normalization.BatchNormalization object at 0x0000000014F411C8>>: AssertionError: Bad argument number for Name: 3, expecting 4\n"
     ]
    }
   ],
   "source": [
    "b = tf.layers.batch_normalization(a,training=True)"
   ]
  },
  {
   "cell_type": "code",
   "execution_count": 54,
   "metadata": {
    "collapsed": true,
    "jupyter": {
     "outputs_hidden": true
    }
   },
   "outputs": [
    {
     "name": "stdout",
     "output_type": "stream",
     "text": [
      "(2, 2, 2, 2)\n",
      "[[[[ 2. 10.]\n",
      "   [ 2.  1.]]\n",
      "\n",
      "  [[ 2. 10.]\n",
      "   [ 2. 10.]]]\n",
      "\n",
      "\n",
      " [[[ 2. 10.]\n",
      "   [ 2. 10.]]\n",
      "\n",
      "  [[ 2. 10.]\n",
      "   [ 2. 10.]]]]\n",
      "[[[[ 0.          0.37794313]\n",
      "   [ 0.         -2.645602  ]]\n",
      "\n",
      "  [[ 0.          0.37794313]\n",
      "   [ 0.          0.37794313]]]\n",
      "\n",
      "\n",
      " [[[ 0.          0.37794313]\n",
      "   [ 0.          0.37794313]]\n",
      "\n",
      "  [[ 0.          0.37794313]\n",
      "   [ 0.          0.37794313]]]]\n"
     ]
    }
   ],
   "source": [
    "with tf.Session() as sess:\n",
    "    sess.run(tf.global_variables_initializer())\n",
    "    print (a.shape)\n",
    "    print(a.eval())\n",
    "    c = sess.run(b)\n",
    "    print(c)"
   ]
  },
  {
   "cell_type": "code",
   "execution_count": 11,
   "metadata": {
    "collapsed": true,
    "jupyter": {
     "outputs_hidden": true
    }
   },
   "outputs": [
    {
     "ename": "ValueError",
     "evalue": "None values not supported.",
     "output_type": "error",
     "traceback": [
      "\u001b[1;31m---------------------------------------------------------------------------\u001b[0m",
      "\u001b[1;31mValueError\u001b[0m                                Traceback (most recent call last)",
      "\u001b[1;32m<ipython-input-11-430f6f06dc51>\u001b[0m in \u001b[0;36m<module>\u001b[1;34m\u001b[0m\n\u001b[0;32m      4\u001b[0m \u001b[1;32mif\u001b[0m \u001b[0m__name__\u001b[0m \u001b[1;33m==\u001b[0m \u001b[1;34m\"__main__\"\u001b[0m\u001b[1;33m:\u001b[0m\u001b[1;33m\u001b[0m\u001b[1;33m\u001b[0m\u001b[0m\n\u001b[0;32m      5\u001b[0m     \u001b[1;32mwith\u001b[0m \u001b[0mtf\u001b[0m\u001b[1;33m.\u001b[0m\u001b[0mSession\u001b[0m\u001b[1;33m(\u001b[0m\u001b[1;33m)\u001b[0m \u001b[1;32mas\u001b[0m \u001b[0msess\u001b[0m\u001b[1;33m:\u001b[0m\u001b[1;33m\u001b[0m\u001b[1;33m\u001b[0m\u001b[0m\n\u001b[1;32m----> 6\u001b[1;33m         \u001b[0moutput_false1\u001b[0m\u001b[1;33m,\u001b[0m\u001b[0moutput_true1\u001b[0m \u001b[1;33m=\u001b[0m \u001b[0mcontrol_flow_ops\u001b[0m\u001b[1;33m.\u001b[0m\u001b[0mswitch\u001b[0m\u001b[1;33m(\u001b[0m\u001b[1;33m[\u001b[0m\u001b[1;36m1\u001b[0m\u001b[1;33m,\u001b[0m\u001b[1;36m2\u001b[0m\u001b[1;33m,\u001b[0m\u001b[1;36m3\u001b[0m\u001b[1;33m,\u001b[0m\u001b[1;36m4\u001b[0m\u001b[1;33m]\u001b[0m\u001b[1;33m,\u001b[0m\u001b[1;32mNone\u001b[0m\u001b[1;33m)\u001b[0m\u001b[1;33m\u001b[0m\u001b[1;33m\u001b[0m\u001b[0m\n\u001b[0m\u001b[0;32m      7\u001b[0m         \u001b[0mprint\u001b[0m\u001b[1;33m(\u001b[0m\u001b[0moutput_false1\u001b[0m\u001b[1;33m.\u001b[0m\u001b[0meval\u001b[0m\u001b[1;33m(\u001b[0m\u001b[1;33m)\u001b[0m\u001b[1;33m)\u001b[0m\u001b[1;33m\u001b[0m\u001b[1;33m\u001b[0m\u001b[0m\n\u001b[0;32m      8\u001b[0m         \u001b[0moutput_false2\u001b[0m\u001b[1;33m,\u001b[0m\u001b[0moutput_true2\u001b[0m \u001b[1;33m=\u001b[0m \u001b[0mcontrol_flow_ops\u001b[0m\u001b[1;33m.\u001b[0m\u001b[0mswitch\u001b[0m\u001b[1;33m(\u001b[0m\u001b[1;33m[\u001b[0m\u001b[1;36m5\u001b[0m\u001b[1;33m,\u001b[0m\u001b[1;36m6\u001b[0m\u001b[1;33m,\u001b[0m\u001b[1;36m7\u001b[0m\u001b[1;33m,\u001b[0m\u001b[1;36m8\u001b[0m\u001b[1;33m]\u001b[0m\u001b[1;33m,\u001b[0m\u001b[1;32mTrue\u001b[0m\u001b[1;33m)\u001b[0m\u001b[1;33m\u001b[0m\u001b[1;33m\u001b[0m\u001b[0m\n",
      "\u001b[1;32md:\\python\\lib\\site-packages\\tensorflow\\python\\ops\\control_flow_ops.py\u001b[0m in \u001b[0;36mswitch\u001b[1;34m(data, pred, dtype, name)\u001b[0m\n\u001b[0;32m    304\u001b[0m     data = ops.internal_convert_to_tensor_or_composite(\n\u001b[0;32m    305\u001b[0m         data, dtype=dtype, name=\"data\", as_ref=True)\n\u001b[1;32m--> 306\u001b[1;33m     \u001b[0mpred\u001b[0m \u001b[1;33m=\u001b[0m \u001b[0mops\u001b[0m\u001b[1;33m.\u001b[0m\u001b[0mconvert_to_tensor\u001b[0m\u001b[1;33m(\u001b[0m\u001b[0mpred\u001b[0m\u001b[1;33m,\u001b[0m \u001b[0mname\u001b[0m\u001b[1;33m=\u001b[0m\u001b[1;34m\"pred\"\u001b[0m\u001b[1;33m)\u001b[0m\u001b[1;33m\u001b[0m\u001b[1;33m\u001b[0m\u001b[0m\n\u001b[0m\u001b[0;32m    307\u001b[0m     \u001b[1;32mif\u001b[0m \u001b[0misinstance\u001b[0m\u001b[1;33m(\u001b[0m\u001b[0mdata\u001b[0m\u001b[1;33m,\u001b[0m \u001b[0mops\u001b[0m\u001b[1;33m.\u001b[0m\u001b[0mTensor\u001b[0m\u001b[1;33m)\u001b[0m\u001b[1;33m:\u001b[0m\u001b[1;33m\u001b[0m\u001b[1;33m\u001b[0m\u001b[0m\n\u001b[0;32m    308\u001b[0m       \u001b[1;32mreturn\u001b[0m \u001b[0mgen_control_flow_ops\u001b[0m\u001b[1;33m.\u001b[0m\u001b[0mswitch\u001b[0m\u001b[1;33m(\u001b[0m\u001b[0mdata\u001b[0m\u001b[1;33m,\u001b[0m \u001b[0mpred\u001b[0m\u001b[1;33m,\u001b[0m \u001b[0mname\u001b[0m\u001b[1;33m=\u001b[0m\u001b[0mname\u001b[0m\u001b[1;33m)\u001b[0m\u001b[1;33m\u001b[0m\u001b[1;33m\u001b[0m\u001b[0m\n",
      "\u001b[1;32md:\\python\\lib\\site-packages\\tensorflow\\python\\framework\\ops.py\u001b[0m in \u001b[0;36mconvert_to_tensor\u001b[1;34m(value, dtype, name, preferred_dtype, dtype_hint)\u001b[0m\n\u001b[0;32m   1085\u001b[0m   preferred_dtype = deprecation.deprecated_argument_lookup(\n\u001b[0;32m   1086\u001b[0m       \"dtype_hint\", dtype_hint, \"preferred_dtype\", preferred_dtype)\n\u001b[1;32m-> 1087\u001b[1;33m   \u001b[1;32mreturn\u001b[0m \u001b[0mconvert_to_tensor_v2\u001b[0m\u001b[1;33m(\u001b[0m\u001b[0mvalue\u001b[0m\u001b[1;33m,\u001b[0m \u001b[0mdtype\u001b[0m\u001b[1;33m,\u001b[0m \u001b[0mpreferred_dtype\u001b[0m\u001b[1;33m,\u001b[0m \u001b[0mname\u001b[0m\u001b[1;33m)\u001b[0m\u001b[1;33m\u001b[0m\u001b[1;33m\u001b[0m\u001b[0m\n\u001b[0m\u001b[0;32m   1088\u001b[0m \u001b[1;33m\u001b[0m\u001b[0m\n\u001b[0;32m   1089\u001b[0m \u001b[1;33m\u001b[0m\u001b[0m\n",
      "\u001b[1;32md:\\python\\lib\\site-packages\\tensorflow\\python\\framework\\ops.py\u001b[0m in \u001b[0;36mconvert_to_tensor_v2\u001b[1;34m(value, dtype, dtype_hint, name)\u001b[0m\n\u001b[0;32m   1143\u001b[0m       \u001b[0mname\u001b[0m\u001b[1;33m=\u001b[0m\u001b[0mname\u001b[0m\u001b[1;33m,\u001b[0m\u001b[1;33m\u001b[0m\u001b[1;33m\u001b[0m\u001b[0m\n\u001b[0;32m   1144\u001b[0m       \u001b[0mpreferred_dtype\u001b[0m\u001b[1;33m=\u001b[0m\u001b[0mdtype_hint\u001b[0m\u001b[1;33m,\u001b[0m\u001b[1;33m\u001b[0m\u001b[1;33m\u001b[0m\u001b[0m\n\u001b[1;32m-> 1145\u001b[1;33m       as_ref=False)\n\u001b[0m\u001b[0;32m   1146\u001b[0m \u001b[1;33m\u001b[0m\u001b[0m\n\u001b[0;32m   1147\u001b[0m \u001b[1;33m\u001b[0m\u001b[0m\n",
      "\u001b[1;32md:\\python\\lib\\site-packages\\tensorflow\\python\\framework\\ops.py\u001b[0m in \u001b[0;36minternal_convert_to_tensor\u001b[1;34m(value, dtype, name, as_ref, preferred_dtype, ctx, accept_symbolic_tensors, accept_composite_tensors)\u001b[0m\n\u001b[0;32m   1222\u001b[0m \u001b[1;33m\u001b[0m\u001b[0m\n\u001b[0;32m   1223\u001b[0m     \u001b[1;32mif\u001b[0m \u001b[0mret\u001b[0m \u001b[1;32mis\u001b[0m \u001b[1;32mNone\u001b[0m\u001b[1;33m:\u001b[0m\u001b[1;33m\u001b[0m\u001b[1;33m\u001b[0m\u001b[0m\n\u001b[1;32m-> 1224\u001b[1;33m       \u001b[0mret\u001b[0m \u001b[1;33m=\u001b[0m \u001b[0mconversion_func\u001b[0m\u001b[1;33m(\u001b[0m\u001b[0mvalue\u001b[0m\u001b[1;33m,\u001b[0m \u001b[0mdtype\u001b[0m\u001b[1;33m=\u001b[0m\u001b[0mdtype\u001b[0m\u001b[1;33m,\u001b[0m \u001b[0mname\u001b[0m\u001b[1;33m=\u001b[0m\u001b[0mname\u001b[0m\u001b[1;33m,\u001b[0m \u001b[0mas_ref\u001b[0m\u001b[1;33m=\u001b[0m\u001b[0mas_ref\u001b[0m\u001b[1;33m)\u001b[0m\u001b[1;33m\u001b[0m\u001b[1;33m\u001b[0m\u001b[0m\n\u001b[0m\u001b[0;32m   1225\u001b[0m \u001b[1;33m\u001b[0m\u001b[0m\n\u001b[0;32m   1226\u001b[0m     \u001b[1;32mif\u001b[0m \u001b[0mret\u001b[0m \u001b[1;32mis\u001b[0m \u001b[0mNotImplemented\u001b[0m\u001b[1;33m:\u001b[0m\u001b[1;33m\u001b[0m\u001b[1;33m\u001b[0m\u001b[0m\n",
      "\u001b[1;32md:\\python\\lib\\site-packages\\tensorflow\\python\\framework\\constant_op.py\u001b[0m in \u001b[0;36m_constant_tensor_conversion_function\u001b[1;34m(v, dtype, name, as_ref)\u001b[0m\n\u001b[0;32m    303\u001b[0m                                          as_ref=False):\n\u001b[0;32m    304\u001b[0m   \u001b[0m_\u001b[0m \u001b[1;33m=\u001b[0m \u001b[0mas_ref\u001b[0m\u001b[1;33m\u001b[0m\u001b[1;33m\u001b[0m\u001b[0m\n\u001b[1;32m--> 305\u001b[1;33m   \u001b[1;32mreturn\u001b[0m \u001b[0mconstant\u001b[0m\u001b[1;33m(\u001b[0m\u001b[0mv\u001b[0m\u001b[1;33m,\u001b[0m \u001b[0mdtype\u001b[0m\u001b[1;33m=\u001b[0m\u001b[0mdtype\u001b[0m\u001b[1;33m,\u001b[0m \u001b[0mname\u001b[0m\u001b[1;33m=\u001b[0m\u001b[0mname\u001b[0m\u001b[1;33m)\u001b[0m\u001b[1;33m\u001b[0m\u001b[1;33m\u001b[0m\u001b[0m\n\u001b[0m\u001b[0;32m    306\u001b[0m \u001b[1;33m\u001b[0m\u001b[0m\n\u001b[0;32m    307\u001b[0m \u001b[1;33m\u001b[0m\u001b[0m\n",
      "\u001b[1;32md:\\python\\lib\\site-packages\\tensorflow\\python\\framework\\constant_op.py\u001b[0m in \u001b[0;36mconstant\u001b[1;34m(value, dtype, shape, name)\u001b[0m\n\u001b[0;32m    244\u001b[0m   \"\"\"\n\u001b[0;32m    245\u001b[0m   return _constant_impl(value, dtype, shape, name, verify_shape=False,\n\u001b[1;32m--> 246\u001b[1;33m                         allow_broadcast=True)\n\u001b[0m\u001b[0;32m    247\u001b[0m \u001b[1;33m\u001b[0m\u001b[0m\n\u001b[0;32m    248\u001b[0m \u001b[1;33m\u001b[0m\u001b[0m\n",
      "\u001b[1;32md:\\python\\lib\\site-packages\\tensorflow\\python\\framework\\constant_op.py\u001b[0m in \u001b[0;36m_constant_impl\u001b[1;34m(value, dtype, shape, name, verify_shape, allow_broadcast)\u001b[0m\n\u001b[0;32m    282\u001b[0m       tensor_util.make_tensor_proto(\n\u001b[0;32m    283\u001b[0m           \u001b[0mvalue\u001b[0m\u001b[1;33m,\u001b[0m \u001b[0mdtype\u001b[0m\u001b[1;33m=\u001b[0m\u001b[0mdtype\u001b[0m\u001b[1;33m,\u001b[0m \u001b[0mshape\u001b[0m\u001b[1;33m=\u001b[0m\u001b[0mshape\u001b[0m\u001b[1;33m,\u001b[0m \u001b[0mverify_shape\u001b[0m\u001b[1;33m=\u001b[0m\u001b[0mverify_shape\u001b[0m\u001b[1;33m,\u001b[0m\u001b[1;33m\u001b[0m\u001b[1;33m\u001b[0m\u001b[0m\n\u001b[1;32m--> 284\u001b[1;33m           allow_broadcast=allow_broadcast))\n\u001b[0m\u001b[0;32m    285\u001b[0m   \u001b[0mdtype_value\u001b[0m \u001b[1;33m=\u001b[0m \u001b[0mattr_value_pb2\u001b[0m\u001b[1;33m.\u001b[0m\u001b[0mAttrValue\u001b[0m\u001b[1;33m(\u001b[0m\u001b[0mtype\u001b[0m\u001b[1;33m=\u001b[0m\u001b[0mtensor_value\u001b[0m\u001b[1;33m.\u001b[0m\u001b[0mtensor\u001b[0m\u001b[1;33m.\u001b[0m\u001b[0mdtype\u001b[0m\u001b[1;33m)\u001b[0m\u001b[1;33m\u001b[0m\u001b[1;33m\u001b[0m\u001b[0m\n\u001b[0;32m    286\u001b[0m   const_tensor = g.create_op(\n",
      "\u001b[1;32md:\\python\\lib\\site-packages\\tensorflow\\python\\framework\\tensor_util.py\u001b[0m in \u001b[0;36mmake_tensor_proto\u001b[1;34m(values, dtype, shape, verify_shape, allow_broadcast)\u001b[0m\n\u001b[0;32m    452\u001b[0m   \u001b[1;32melse\u001b[0m\u001b[1;33m:\u001b[0m\u001b[1;33m\u001b[0m\u001b[1;33m\u001b[0m\u001b[0m\n\u001b[0;32m    453\u001b[0m     \u001b[1;32mif\u001b[0m \u001b[0mvalues\u001b[0m \u001b[1;32mis\u001b[0m \u001b[1;32mNone\u001b[0m\u001b[1;33m:\u001b[0m\u001b[1;33m\u001b[0m\u001b[1;33m\u001b[0m\u001b[0m\n\u001b[1;32m--> 454\u001b[1;33m       \u001b[1;32mraise\u001b[0m \u001b[0mValueError\u001b[0m\u001b[1;33m(\u001b[0m\u001b[1;34m\"None values not supported.\"\u001b[0m\u001b[1;33m)\u001b[0m\u001b[1;33m\u001b[0m\u001b[1;33m\u001b[0m\u001b[0m\n\u001b[0m\u001b[0;32m    455\u001b[0m     \u001b[1;31m# if dtype is provided, forces numpy array to be the type\u001b[0m\u001b[1;33m\u001b[0m\u001b[1;33m\u001b[0m\u001b[1;33m\u001b[0m\u001b[0m\n\u001b[0;32m    456\u001b[0m     \u001b[1;31m# provided if possible.\u001b[0m\u001b[1;33m\u001b[0m\u001b[1;33m\u001b[0m\u001b[1;33m\u001b[0m\u001b[0m\n",
      "\u001b[1;31mValueError\u001b[0m: None values not supported."
     ]
    }
   ],
   "source": [
    "\n",
    "import tensorflow as tf\n",
    "from tensorflow.python.ops import control_flow_ops\n",
    "\n",
    "if __name__ == \"__main__\":\n",
    "    with tf.Session() as sess:\n",
    "        output_false1,output_true1 = control_flow_ops.switch([1,2,3,4],None)\n",
    "        print(output_false1.eval())\n",
    "        output_false2,output_true2 = control_flow_ops.switch([5,6,7,8],True)\n",
    "        print(output_true2.eval())\n",
    "        \n",
    "        x,y = control_flow_ops.merge([output_true1,output_true2])\n",
    "        print(x.eval())"
   ]
  },
  {
   "cell_type": "code",
   "execution_count": 6,
   "metadata": {
    "collapsed": true,
    "jupyter": {
     "outputs_hidden": true
    }
   },
   "outputs": [
    {
     "name": "stdout",
     "output_type": "stream",
     "text": [
      "EnvSpec(Copy-v0)\n",
      "EnvSpec(RepeatCopy-v0)\n",
      "EnvSpec(ReversedAddition-v0)\n",
      "EnvSpec(ReversedAddition3-v0)\n",
      "EnvSpec(DuplicatedInput-v0)\n",
      "EnvSpec(Reverse-v0)\n",
      "EnvSpec(CartPole-v0)\n",
      "EnvSpec(CartPole-v1)\n",
      "EnvSpec(MountainCar-v0)\n",
      "EnvSpec(MountainCarContinuous-v0)\n",
      "EnvSpec(Pendulum-v0)\n",
      "EnvSpec(Acrobot-v1)\n",
      "EnvSpec(LunarLander-v2)\n",
      "EnvSpec(LunarLanderContinuous-v2)\n",
      "EnvSpec(BipedalWalker-v2)\n",
      "EnvSpec(BipedalWalkerHardcore-v2)\n",
      "EnvSpec(CarRacing-v0)\n",
      "EnvSpec(Blackjack-v0)\n",
      "EnvSpec(KellyCoinflip-v0)\n",
      "EnvSpec(KellyCoinflipGeneralized-v0)\n",
      "EnvSpec(FrozenLake-v0)\n",
      "EnvSpec(FrozenLake8x8-v0)\n",
      "EnvSpec(CliffWalking-v0)\n",
      "EnvSpec(NChain-v0)\n",
      "EnvSpec(Roulette-v0)\n",
      "EnvSpec(Taxi-v2)\n",
      "EnvSpec(GuessingGame-v0)\n",
      "EnvSpec(HotterColder-v0)\n",
      "EnvSpec(Reacher-v2)\n",
      "EnvSpec(Pusher-v2)\n",
      "EnvSpec(Thrower-v2)\n",
      "EnvSpec(Striker-v2)\n",
      "EnvSpec(InvertedPendulum-v2)\n",
      "EnvSpec(InvertedDoublePendulum-v2)\n",
      "EnvSpec(HalfCheetah-v2)\n",
      "EnvSpec(HalfCheetah-v3)\n",
      "EnvSpec(Hopper-v2)\n",
      "EnvSpec(Hopper-v3)\n",
      "EnvSpec(Swimmer-v2)\n",
      "EnvSpec(Swimmer-v3)\n",
      "EnvSpec(Walker2d-v2)\n",
      "EnvSpec(Walker2d-v3)\n",
      "EnvSpec(Ant-v2)\n",
      "EnvSpec(Ant-v3)\n",
      "EnvSpec(Humanoid-v2)\n",
      "EnvSpec(Humanoid-v3)\n",
      "EnvSpec(HumanoidStandup-v2)\n",
      "EnvSpec(FetchSlide-v1)\n",
      "EnvSpec(FetchPickAndPlace-v1)\n",
      "EnvSpec(FetchReach-v1)\n",
      "EnvSpec(FetchPush-v1)\n",
      "EnvSpec(HandReach-v0)\n",
      "EnvSpec(HandManipulateBlockRotateZ-v0)\n",
      "EnvSpec(HandManipulateBlockRotateZTouchSensors-v0)\n",
      "EnvSpec(HandManipulateBlockRotateZTouchSensors-v1)\n",
      "EnvSpec(HandManipulateBlockRotateParallel-v0)\n",
      "EnvSpec(HandManipulateBlockRotateParallelTouchSensors-v0)\n",
      "EnvSpec(HandManipulateBlockRotateParallelTouchSensors-v1)\n",
      "EnvSpec(HandManipulateBlockRotateXYZ-v0)\n",
      "EnvSpec(HandManipulateBlockRotateXYZTouchSensors-v0)\n",
      "EnvSpec(HandManipulateBlockRotateXYZTouchSensors-v1)\n",
      "EnvSpec(HandManipulateBlockFull-v0)\n",
      "EnvSpec(HandManipulateBlock-v0)\n",
      "EnvSpec(HandManipulateBlockTouchSensors-v0)\n",
      "EnvSpec(HandManipulateBlockTouchSensors-v1)\n",
      "EnvSpec(HandManipulateEggRotate-v0)\n",
      "EnvSpec(HandManipulateEggRotateTouchSensors-v0)\n",
      "EnvSpec(HandManipulateEggRotateTouchSensors-v1)\n",
      "EnvSpec(HandManipulateEggFull-v0)\n",
      "EnvSpec(HandManipulateEgg-v0)\n",
      "EnvSpec(HandManipulateEggTouchSensors-v0)\n",
      "EnvSpec(HandManipulateEggTouchSensors-v1)\n",
      "EnvSpec(HandManipulatePenRotate-v0)\n",
      "EnvSpec(HandManipulatePenRotateTouchSensors-v0)\n",
      "EnvSpec(HandManipulatePenRotateTouchSensors-v1)\n",
      "EnvSpec(HandManipulatePenFull-v0)\n",
      "EnvSpec(HandManipulatePen-v0)\n",
      "EnvSpec(HandManipulatePenTouchSensors-v0)\n",
      "EnvSpec(HandManipulatePenTouchSensors-v1)\n",
      "EnvSpec(FetchSlideDense-v1)\n",
      "EnvSpec(FetchPickAndPlaceDense-v1)\n",
      "EnvSpec(FetchReachDense-v1)\n",
      "EnvSpec(FetchPushDense-v1)\n",
      "EnvSpec(HandReachDense-v0)\n",
      "EnvSpec(HandManipulateBlockRotateZDense-v0)\n",
      "EnvSpec(HandManipulateBlockRotateZTouchSensorsDense-v0)\n",
      "EnvSpec(HandManipulateBlockRotateZTouchSensorsDense-v1)\n",
      "EnvSpec(HandManipulateBlockRotateParallelDense-v0)\n",
      "EnvSpec(HandManipulateBlockRotateParallelTouchSensorsDense-v0)\n",
      "EnvSpec(HandManipulateBlockRotateParallelTouchSensorsDense-v1)\n",
      "EnvSpec(HandManipulateBlockRotateXYZDense-v0)\n",
      "EnvSpec(HandManipulateBlockRotateXYZTouchSensorsDense-v0)\n",
      "EnvSpec(HandManipulateBlockRotateXYZTouchSensorsDense-v1)\n",
      "EnvSpec(HandManipulateBlockFullDense-v0)\n",
      "EnvSpec(HandManipulateBlockDense-v0)\n",
      "EnvSpec(HandManipulateBlockTouchSensorsDense-v0)\n",
      "EnvSpec(HandManipulateBlockTouchSensorsDense-v1)\n",
      "EnvSpec(HandManipulateEggRotateDense-v0)\n",
      "EnvSpec(HandManipulateEggRotateTouchSensorsDense-v0)\n",
      "EnvSpec(HandManipulateEggRotateTouchSensorsDense-v1)\n",
      "EnvSpec(HandManipulateEggFullDense-v0)\n",
      "EnvSpec(HandManipulateEggDense-v0)\n",
      "EnvSpec(HandManipulateEggTouchSensorsDense-v0)\n",
      "EnvSpec(HandManipulateEggTouchSensorsDense-v1)\n",
      "EnvSpec(HandManipulatePenRotateDense-v0)\n",
      "EnvSpec(HandManipulatePenRotateTouchSensorsDense-v0)\n",
      "EnvSpec(HandManipulatePenRotateTouchSensorsDense-v1)\n",
      "EnvSpec(HandManipulatePenFullDense-v0)\n",
      "EnvSpec(HandManipulatePenDense-v0)\n",
      "EnvSpec(HandManipulatePenTouchSensorsDense-v0)\n",
      "EnvSpec(HandManipulatePenTouchSensorsDense-v1)\n",
      "EnvSpec(Adventure-v0)\n",
      "EnvSpec(Adventure-v4)\n",
      "EnvSpec(AdventureDeterministic-v0)\n",
      "EnvSpec(AdventureDeterministic-v4)\n",
      "EnvSpec(AdventureNoFrameskip-v0)\n",
      "EnvSpec(AdventureNoFrameskip-v4)\n",
      "EnvSpec(Adventure-ram-v0)\n",
      "EnvSpec(Adventure-ram-v4)\n",
      "EnvSpec(Adventure-ramDeterministic-v0)\n",
      "EnvSpec(Adventure-ramDeterministic-v4)\n",
      "EnvSpec(Adventure-ramNoFrameskip-v0)\n",
      "EnvSpec(Adventure-ramNoFrameskip-v4)\n",
      "EnvSpec(AirRaid-v0)\n",
      "EnvSpec(AirRaid-v4)\n",
      "EnvSpec(AirRaidDeterministic-v0)\n",
      "EnvSpec(AirRaidDeterministic-v4)\n",
      "EnvSpec(AirRaidNoFrameskip-v0)\n",
      "EnvSpec(AirRaidNoFrameskip-v4)\n",
      "EnvSpec(AirRaid-ram-v0)\n",
      "EnvSpec(AirRaid-ram-v4)\n",
      "EnvSpec(AirRaid-ramDeterministic-v0)\n",
      "EnvSpec(AirRaid-ramDeterministic-v4)\n",
      "EnvSpec(AirRaid-ramNoFrameskip-v0)\n",
      "EnvSpec(AirRaid-ramNoFrameskip-v4)\n",
      "EnvSpec(Alien-v0)\n",
      "EnvSpec(Alien-v4)\n",
      "EnvSpec(AlienDeterministic-v0)\n",
      "EnvSpec(AlienDeterministic-v4)\n",
      "EnvSpec(AlienNoFrameskip-v0)\n",
      "EnvSpec(AlienNoFrameskip-v4)\n",
      "EnvSpec(Alien-ram-v0)\n",
      "EnvSpec(Alien-ram-v4)\n",
      "EnvSpec(Alien-ramDeterministic-v0)\n",
      "EnvSpec(Alien-ramDeterministic-v4)\n",
      "EnvSpec(Alien-ramNoFrameskip-v0)\n",
      "EnvSpec(Alien-ramNoFrameskip-v4)\n",
      "EnvSpec(Amidar-v0)\n",
      "EnvSpec(Amidar-v4)\n",
      "EnvSpec(AmidarDeterministic-v0)\n",
      "EnvSpec(AmidarDeterministic-v4)\n",
      "EnvSpec(AmidarNoFrameskip-v0)\n",
      "EnvSpec(AmidarNoFrameskip-v4)\n",
      "EnvSpec(Amidar-ram-v0)\n",
      "EnvSpec(Amidar-ram-v4)\n",
      "EnvSpec(Amidar-ramDeterministic-v0)\n",
      "EnvSpec(Amidar-ramDeterministic-v4)\n",
      "EnvSpec(Amidar-ramNoFrameskip-v0)\n",
      "EnvSpec(Amidar-ramNoFrameskip-v4)\n",
      "EnvSpec(Assault-v0)\n",
      "EnvSpec(Assault-v4)\n",
      "EnvSpec(AssaultDeterministic-v0)\n",
      "EnvSpec(AssaultDeterministic-v4)\n",
      "EnvSpec(AssaultNoFrameskip-v0)\n",
      "EnvSpec(AssaultNoFrameskip-v4)\n",
      "EnvSpec(Assault-ram-v0)\n",
      "EnvSpec(Assault-ram-v4)\n",
      "EnvSpec(Assault-ramDeterministic-v0)\n",
      "EnvSpec(Assault-ramDeterministic-v4)\n",
      "EnvSpec(Assault-ramNoFrameskip-v0)\n",
      "EnvSpec(Assault-ramNoFrameskip-v4)\n",
      "EnvSpec(Asterix-v0)\n",
      "EnvSpec(Asterix-v4)\n",
      "EnvSpec(AsterixDeterministic-v0)\n",
      "EnvSpec(AsterixDeterministic-v4)\n",
      "EnvSpec(AsterixNoFrameskip-v0)\n",
      "EnvSpec(AsterixNoFrameskip-v4)\n",
      "EnvSpec(Asterix-ram-v0)\n",
      "EnvSpec(Asterix-ram-v4)\n",
      "EnvSpec(Asterix-ramDeterministic-v0)\n",
      "EnvSpec(Asterix-ramDeterministic-v4)\n",
      "EnvSpec(Asterix-ramNoFrameskip-v0)\n",
      "EnvSpec(Asterix-ramNoFrameskip-v4)\n",
      "EnvSpec(Asteroids-v0)\n",
      "EnvSpec(Asteroids-v4)\n",
      "EnvSpec(AsteroidsDeterministic-v0)\n",
      "EnvSpec(AsteroidsDeterministic-v4)\n",
      "EnvSpec(AsteroidsNoFrameskip-v0)\n",
      "EnvSpec(AsteroidsNoFrameskip-v4)\n",
      "EnvSpec(Asteroids-ram-v0)\n",
      "EnvSpec(Asteroids-ram-v4)\n",
      "EnvSpec(Asteroids-ramDeterministic-v0)\n",
      "EnvSpec(Asteroids-ramDeterministic-v4)\n",
      "EnvSpec(Asteroids-ramNoFrameskip-v0)\n",
      "EnvSpec(Asteroids-ramNoFrameskip-v4)\n",
      "EnvSpec(Atlantis-v0)\n",
      "EnvSpec(Atlantis-v4)\n",
      "EnvSpec(AtlantisDeterministic-v0)\n",
      "EnvSpec(AtlantisDeterministic-v4)\n",
      "EnvSpec(AtlantisNoFrameskip-v0)\n",
      "EnvSpec(AtlantisNoFrameskip-v4)\n",
      "EnvSpec(Atlantis-ram-v0)\n",
      "EnvSpec(Atlantis-ram-v4)\n",
      "EnvSpec(Atlantis-ramDeterministic-v0)\n",
      "EnvSpec(Atlantis-ramDeterministic-v4)\n",
      "EnvSpec(Atlantis-ramNoFrameskip-v0)\n",
      "EnvSpec(Atlantis-ramNoFrameskip-v4)\n",
      "EnvSpec(BankHeist-v0)\n",
      "EnvSpec(BankHeist-v4)\n",
      "EnvSpec(BankHeistDeterministic-v0)\n",
      "EnvSpec(BankHeistDeterministic-v4)\n",
      "EnvSpec(BankHeistNoFrameskip-v0)\n",
      "EnvSpec(BankHeistNoFrameskip-v4)\n",
      "EnvSpec(BankHeist-ram-v0)\n",
      "EnvSpec(BankHeist-ram-v4)\n",
      "EnvSpec(BankHeist-ramDeterministic-v0)\n",
      "EnvSpec(BankHeist-ramDeterministic-v4)\n",
      "EnvSpec(BankHeist-ramNoFrameskip-v0)\n",
      "EnvSpec(BankHeist-ramNoFrameskip-v4)\n",
      "EnvSpec(BattleZone-v0)\n",
      "EnvSpec(BattleZone-v4)\n",
      "EnvSpec(BattleZoneDeterministic-v0)\n",
      "EnvSpec(BattleZoneDeterministic-v4)\n",
      "EnvSpec(BattleZoneNoFrameskip-v0)\n",
      "EnvSpec(BattleZoneNoFrameskip-v4)\n",
      "EnvSpec(BattleZone-ram-v0)\n",
      "EnvSpec(BattleZone-ram-v4)\n",
      "EnvSpec(BattleZone-ramDeterministic-v0)\n",
      "EnvSpec(BattleZone-ramDeterministic-v4)\n",
      "EnvSpec(BattleZone-ramNoFrameskip-v0)\n",
      "EnvSpec(BattleZone-ramNoFrameskip-v4)\n",
      "EnvSpec(BeamRider-v0)\n",
      "EnvSpec(BeamRider-v4)\n",
      "EnvSpec(BeamRiderDeterministic-v0)\n",
      "EnvSpec(BeamRiderDeterministic-v4)\n",
      "EnvSpec(BeamRiderNoFrameskip-v0)\n",
      "EnvSpec(BeamRiderNoFrameskip-v4)\n",
      "EnvSpec(BeamRider-ram-v0)\n",
      "EnvSpec(BeamRider-ram-v4)\n",
      "EnvSpec(BeamRider-ramDeterministic-v0)\n",
      "EnvSpec(BeamRider-ramDeterministic-v4)\n",
      "EnvSpec(BeamRider-ramNoFrameskip-v0)\n",
      "EnvSpec(BeamRider-ramNoFrameskip-v4)\n",
      "EnvSpec(Berzerk-v0)\n",
      "EnvSpec(Berzerk-v4)\n",
      "EnvSpec(BerzerkDeterministic-v0)\n",
      "EnvSpec(BerzerkDeterministic-v4)\n",
      "EnvSpec(BerzerkNoFrameskip-v0)\n",
      "EnvSpec(BerzerkNoFrameskip-v4)\n",
      "EnvSpec(Berzerk-ram-v0)\n",
      "EnvSpec(Berzerk-ram-v4)\n",
      "EnvSpec(Berzerk-ramDeterministic-v0)\n",
      "EnvSpec(Berzerk-ramDeterministic-v4)\n",
      "EnvSpec(Berzerk-ramNoFrameskip-v0)\n",
      "EnvSpec(Berzerk-ramNoFrameskip-v4)\n",
      "EnvSpec(Bowling-v0)\n",
      "EnvSpec(Bowling-v4)\n",
      "EnvSpec(BowlingDeterministic-v0)\n",
      "EnvSpec(BowlingDeterministic-v4)\n",
      "EnvSpec(BowlingNoFrameskip-v0)\n",
      "EnvSpec(BowlingNoFrameskip-v4)\n",
      "EnvSpec(Bowling-ram-v0)\n",
      "EnvSpec(Bowling-ram-v4)\n",
      "EnvSpec(Bowling-ramDeterministic-v0)\n",
      "EnvSpec(Bowling-ramDeterministic-v4)\n",
      "EnvSpec(Bowling-ramNoFrameskip-v0)\n",
      "EnvSpec(Bowling-ramNoFrameskip-v4)\n",
      "EnvSpec(Boxing-v0)\n",
      "EnvSpec(Boxing-v4)\n",
      "EnvSpec(BoxingDeterministic-v0)\n",
      "EnvSpec(BoxingDeterministic-v4)\n",
      "EnvSpec(BoxingNoFrameskip-v0)\n",
      "EnvSpec(BoxingNoFrameskip-v4)\n",
      "EnvSpec(Boxing-ram-v0)\n",
      "EnvSpec(Boxing-ram-v4)\n",
      "EnvSpec(Boxing-ramDeterministic-v0)\n",
      "EnvSpec(Boxing-ramDeterministic-v4)\n",
      "EnvSpec(Boxing-ramNoFrameskip-v0)\n",
      "EnvSpec(Boxing-ramNoFrameskip-v4)\n",
      "EnvSpec(Breakout-v0)\n",
      "EnvSpec(Breakout-v4)\n",
      "EnvSpec(BreakoutDeterministic-v0)\n",
      "EnvSpec(BreakoutDeterministic-v4)\n",
      "EnvSpec(BreakoutNoFrameskip-v0)\n",
      "EnvSpec(BreakoutNoFrameskip-v4)\n",
      "EnvSpec(Breakout-ram-v0)\n",
      "EnvSpec(Breakout-ram-v4)\n",
      "EnvSpec(Breakout-ramDeterministic-v0)\n",
      "EnvSpec(Breakout-ramDeterministic-v4)\n",
      "EnvSpec(Breakout-ramNoFrameskip-v0)\n",
      "EnvSpec(Breakout-ramNoFrameskip-v4)\n",
      "EnvSpec(Carnival-v0)\n",
      "EnvSpec(Carnival-v4)\n",
      "EnvSpec(CarnivalDeterministic-v0)\n",
      "EnvSpec(CarnivalDeterministic-v4)\n",
      "EnvSpec(CarnivalNoFrameskip-v0)\n",
      "EnvSpec(CarnivalNoFrameskip-v4)\n",
      "EnvSpec(Carnival-ram-v0)\n",
      "EnvSpec(Carnival-ram-v4)\n",
      "EnvSpec(Carnival-ramDeterministic-v0)\n",
      "EnvSpec(Carnival-ramDeterministic-v4)\n",
      "EnvSpec(Carnival-ramNoFrameskip-v0)\n",
      "EnvSpec(Carnival-ramNoFrameskip-v4)\n",
      "EnvSpec(Centipede-v0)\n",
      "EnvSpec(Centipede-v4)\n",
      "EnvSpec(CentipedeDeterministic-v0)\n",
      "EnvSpec(CentipedeDeterministic-v4)\n",
      "EnvSpec(CentipedeNoFrameskip-v0)\n",
      "EnvSpec(CentipedeNoFrameskip-v4)\n",
      "EnvSpec(Centipede-ram-v0)\n",
      "EnvSpec(Centipede-ram-v4)\n",
      "EnvSpec(Centipede-ramDeterministic-v0)\n",
      "EnvSpec(Centipede-ramDeterministic-v4)\n",
      "EnvSpec(Centipede-ramNoFrameskip-v0)\n",
      "EnvSpec(Centipede-ramNoFrameskip-v4)\n",
      "EnvSpec(ChopperCommand-v0)\n",
      "EnvSpec(ChopperCommand-v4)\n",
      "EnvSpec(ChopperCommandDeterministic-v0)\n",
      "EnvSpec(ChopperCommandDeterministic-v4)\n",
      "EnvSpec(ChopperCommandNoFrameskip-v0)\n",
      "EnvSpec(ChopperCommandNoFrameskip-v4)\n",
      "EnvSpec(ChopperCommand-ram-v0)\n",
      "EnvSpec(ChopperCommand-ram-v4)\n",
      "EnvSpec(ChopperCommand-ramDeterministic-v0)\n",
      "EnvSpec(ChopperCommand-ramDeterministic-v4)\n",
      "EnvSpec(ChopperCommand-ramNoFrameskip-v0)\n",
      "EnvSpec(ChopperCommand-ramNoFrameskip-v4)\n",
      "EnvSpec(CrazyClimber-v0)\n",
      "EnvSpec(CrazyClimber-v4)\n",
      "EnvSpec(CrazyClimberDeterministic-v0)\n",
      "EnvSpec(CrazyClimberDeterministic-v4)\n",
      "EnvSpec(CrazyClimberNoFrameskip-v0)\n",
      "EnvSpec(CrazyClimberNoFrameskip-v4)\n",
      "EnvSpec(CrazyClimber-ram-v0)\n",
      "EnvSpec(CrazyClimber-ram-v4)\n",
      "EnvSpec(CrazyClimber-ramDeterministic-v0)\n",
      "EnvSpec(CrazyClimber-ramDeterministic-v4)\n",
      "EnvSpec(CrazyClimber-ramNoFrameskip-v0)\n",
      "EnvSpec(CrazyClimber-ramNoFrameskip-v4)\n",
      "EnvSpec(Defender-v0)\n",
      "EnvSpec(Defender-v4)\n",
      "EnvSpec(DefenderDeterministic-v0)\n",
      "EnvSpec(DefenderDeterministic-v4)\n",
      "EnvSpec(DefenderNoFrameskip-v0)\n",
      "EnvSpec(DefenderNoFrameskip-v4)\n",
      "EnvSpec(Defender-ram-v0)\n",
      "EnvSpec(Defender-ram-v4)\n",
      "EnvSpec(Defender-ramDeterministic-v0)\n",
      "EnvSpec(Defender-ramDeterministic-v4)\n",
      "EnvSpec(Defender-ramNoFrameskip-v0)\n",
      "EnvSpec(Defender-ramNoFrameskip-v4)\n",
      "EnvSpec(DemonAttack-v0)\n",
      "EnvSpec(DemonAttack-v4)\n",
      "EnvSpec(DemonAttackDeterministic-v0)\n",
      "EnvSpec(DemonAttackDeterministic-v4)\n",
      "EnvSpec(DemonAttackNoFrameskip-v0)\n",
      "EnvSpec(DemonAttackNoFrameskip-v4)\n",
      "EnvSpec(DemonAttack-ram-v0)\n",
      "EnvSpec(DemonAttack-ram-v4)\n",
      "EnvSpec(DemonAttack-ramDeterministic-v0)\n",
      "EnvSpec(DemonAttack-ramDeterministic-v4)\n",
      "EnvSpec(DemonAttack-ramNoFrameskip-v0)\n",
      "EnvSpec(DemonAttack-ramNoFrameskip-v4)\n",
      "EnvSpec(DoubleDunk-v0)\n",
      "EnvSpec(DoubleDunk-v4)\n",
      "EnvSpec(DoubleDunkDeterministic-v0)\n",
      "EnvSpec(DoubleDunkDeterministic-v4)\n",
      "EnvSpec(DoubleDunkNoFrameskip-v0)\n",
      "EnvSpec(DoubleDunkNoFrameskip-v4)\n",
      "EnvSpec(DoubleDunk-ram-v0)\n",
      "EnvSpec(DoubleDunk-ram-v4)\n",
      "EnvSpec(DoubleDunk-ramDeterministic-v0)\n",
      "EnvSpec(DoubleDunk-ramDeterministic-v4)\n",
      "EnvSpec(DoubleDunk-ramNoFrameskip-v0)\n",
      "EnvSpec(DoubleDunk-ramNoFrameskip-v4)\n",
      "EnvSpec(ElevatorAction-v0)\n",
      "EnvSpec(ElevatorAction-v4)\n",
      "EnvSpec(ElevatorActionDeterministic-v0)\n",
      "EnvSpec(ElevatorActionDeterministic-v4)\n",
      "EnvSpec(ElevatorActionNoFrameskip-v0)\n",
      "EnvSpec(ElevatorActionNoFrameskip-v4)\n",
      "EnvSpec(ElevatorAction-ram-v0)\n",
      "EnvSpec(ElevatorAction-ram-v4)\n",
      "EnvSpec(ElevatorAction-ramDeterministic-v0)\n",
      "EnvSpec(ElevatorAction-ramDeterministic-v4)\n",
      "EnvSpec(ElevatorAction-ramNoFrameskip-v0)\n",
      "EnvSpec(ElevatorAction-ramNoFrameskip-v4)\n",
      "EnvSpec(Enduro-v0)\n",
      "EnvSpec(Enduro-v4)\n",
      "EnvSpec(EnduroDeterministic-v0)\n",
      "EnvSpec(EnduroDeterministic-v4)\n",
      "EnvSpec(EnduroNoFrameskip-v0)\n",
      "EnvSpec(EnduroNoFrameskip-v4)\n",
      "EnvSpec(Enduro-ram-v0)\n",
      "EnvSpec(Enduro-ram-v4)\n",
      "EnvSpec(Enduro-ramDeterministic-v0)\n",
      "EnvSpec(Enduro-ramDeterministic-v4)\n",
      "EnvSpec(Enduro-ramNoFrameskip-v0)\n",
      "EnvSpec(Enduro-ramNoFrameskip-v4)\n",
      "EnvSpec(FishingDerby-v0)\n",
      "EnvSpec(FishingDerby-v4)\n",
      "EnvSpec(FishingDerbyDeterministic-v0)\n",
      "EnvSpec(FishingDerbyDeterministic-v4)\n",
      "EnvSpec(FishingDerbyNoFrameskip-v0)\n",
      "EnvSpec(FishingDerbyNoFrameskip-v4)\n",
      "EnvSpec(FishingDerby-ram-v0)\n",
      "EnvSpec(FishingDerby-ram-v4)\n",
      "EnvSpec(FishingDerby-ramDeterministic-v0)\n",
      "EnvSpec(FishingDerby-ramDeterministic-v4)\n",
      "EnvSpec(FishingDerby-ramNoFrameskip-v0)\n",
      "EnvSpec(FishingDerby-ramNoFrameskip-v4)\n",
      "EnvSpec(Freeway-v0)\n",
      "EnvSpec(Freeway-v4)\n",
      "EnvSpec(FreewayDeterministic-v0)\n",
      "EnvSpec(FreewayDeterministic-v4)\n",
      "EnvSpec(FreewayNoFrameskip-v0)\n",
      "EnvSpec(FreewayNoFrameskip-v4)\n",
      "EnvSpec(Freeway-ram-v0)\n",
      "EnvSpec(Freeway-ram-v4)\n",
      "EnvSpec(Freeway-ramDeterministic-v0)\n",
      "EnvSpec(Freeway-ramDeterministic-v4)\n",
      "EnvSpec(Freeway-ramNoFrameskip-v0)\n",
      "EnvSpec(Freeway-ramNoFrameskip-v4)\n",
      "EnvSpec(Frostbite-v0)\n",
      "EnvSpec(Frostbite-v4)\n",
      "EnvSpec(FrostbiteDeterministic-v0)\n",
      "EnvSpec(FrostbiteDeterministic-v4)\n",
      "EnvSpec(FrostbiteNoFrameskip-v0)\n",
      "EnvSpec(FrostbiteNoFrameskip-v4)\n",
      "EnvSpec(Frostbite-ram-v0)\n",
      "EnvSpec(Frostbite-ram-v4)\n",
      "EnvSpec(Frostbite-ramDeterministic-v0)\n",
      "EnvSpec(Frostbite-ramDeterministic-v4)\n",
      "EnvSpec(Frostbite-ramNoFrameskip-v0)\n",
      "EnvSpec(Frostbite-ramNoFrameskip-v4)\n",
      "EnvSpec(Gopher-v0)\n",
      "EnvSpec(Gopher-v4)\n",
      "EnvSpec(GopherDeterministic-v0)\n",
      "EnvSpec(GopherDeterministic-v4)\n",
      "EnvSpec(GopherNoFrameskip-v0)\n",
      "EnvSpec(GopherNoFrameskip-v4)\n",
      "EnvSpec(Gopher-ram-v0)\n",
      "EnvSpec(Gopher-ram-v4)\n",
      "EnvSpec(Gopher-ramDeterministic-v0)\n",
      "EnvSpec(Gopher-ramDeterministic-v4)\n",
      "EnvSpec(Gopher-ramNoFrameskip-v0)\n",
      "EnvSpec(Gopher-ramNoFrameskip-v4)\n",
      "EnvSpec(Gravitar-v0)\n",
      "EnvSpec(Gravitar-v4)\n",
      "EnvSpec(GravitarDeterministic-v0)\n",
      "EnvSpec(GravitarDeterministic-v4)\n",
      "EnvSpec(GravitarNoFrameskip-v0)\n",
      "EnvSpec(GravitarNoFrameskip-v4)\n",
      "EnvSpec(Gravitar-ram-v0)\n",
      "EnvSpec(Gravitar-ram-v4)\n",
      "EnvSpec(Gravitar-ramDeterministic-v0)\n",
      "EnvSpec(Gravitar-ramDeterministic-v4)\n",
      "EnvSpec(Gravitar-ramNoFrameskip-v0)\n",
      "EnvSpec(Gravitar-ramNoFrameskip-v4)\n",
      "EnvSpec(Hero-v0)\n",
      "EnvSpec(Hero-v4)\n",
      "EnvSpec(HeroDeterministic-v0)\n",
      "EnvSpec(HeroDeterministic-v4)\n",
      "EnvSpec(HeroNoFrameskip-v0)\n",
      "EnvSpec(HeroNoFrameskip-v4)\n",
      "EnvSpec(Hero-ram-v0)\n",
      "EnvSpec(Hero-ram-v4)\n",
      "EnvSpec(Hero-ramDeterministic-v0)\n",
      "EnvSpec(Hero-ramDeterministic-v4)\n",
      "EnvSpec(Hero-ramNoFrameskip-v0)\n",
      "EnvSpec(Hero-ramNoFrameskip-v4)\n",
      "EnvSpec(IceHockey-v0)\n",
      "EnvSpec(IceHockey-v4)\n",
      "EnvSpec(IceHockeyDeterministic-v0)\n",
      "EnvSpec(IceHockeyDeterministic-v4)\n",
      "EnvSpec(IceHockeyNoFrameskip-v0)\n",
      "EnvSpec(IceHockeyNoFrameskip-v4)\n",
      "EnvSpec(IceHockey-ram-v0)\n",
      "EnvSpec(IceHockey-ram-v4)\n",
      "EnvSpec(IceHockey-ramDeterministic-v0)\n",
      "EnvSpec(IceHockey-ramDeterministic-v4)\n",
      "EnvSpec(IceHockey-ramNoFrameskip-v0)\n",
      "EnvSpec(IceHockey-ramNoFrameskip-v4)\n",
      "EnvSpec(Jamesbond-v0)\n",
      "EnvSpec(Jamesbond-v4)\n",
      "EnvSpec(JamesbondDeterministic-v0)\n",
      "EnvSpec(JamesbondDeterministic-v4)\n",
      "EnvSpec(JamesbondNoFrameskip-v0)\n",
      "EnvSpec(JamesbondNoFrameskip-v4)\n",
      "EnvSpec(Jamesbond-ram-v0)\n",
      "EnvSpec(Jamesbond-ram-v4)\n",
      "EnvSpec(Jamesbond-ramDeterministic-v0)\n",
      "EnvSpec(Jamesbond-ramDeterministic-v4)\n",
      "EnvSpec(Jamesbond-ramNoFrameskip-v0)\n",
      "EnvSpec(Jamesbond-ramNoFrameskip-v4)\n",
      "EnvSpec(JourneyEscape-v0)\n",
      "EnvSpec(JourneyEscape-v4)\n",
      "EnvSpec(JourneyEscapeDeterministic-v0)\n",
      "EnvSpec(JourneyEscapeDeterministic-v4)\n",
      "EnvSpec(JourneyEscapeNoFrameskip-v0)\n",
      "EnvSpec(JourneyEscapeNoFrameskip-v4)\n",
      "EnvSpec(JourneyEscape-ram-v0)\n",
      "EnvSpec(JourneyEscape-ram-v4)\n",
      "EnvSpec(JourneyEscape-ramDeterministic-v0)\n",
      "EnvSpec(JourneyEscape-ramDeterministic-v4)\n",
      "EnvSpec(JourneyEscape-ramNoFrameskip-v0)\n",
      "EnvSpec(JourneyEscape-ramNoFrameskip-v4)\n",
      "EnvSpec(Kangaroo-v0)\n",
      "EnvSpec(Kangaroo-v4)\n",
      "EnvSpec(KangarooDeterministic-v0)\n",
      "EnvSpec(KangarooDeterministic-v4)\n",
      "EnvSpec(KangarooNoFrameskip-v0)\n",
      "EnvSpec(KangarooNoFrameskip-v4)\n",
      "EnvSpec(Kangaroo-ram-v0)\n",
      "EnvSpec(Kangaroo-ram-v4)\n",
      "EnvSpec(Kangaroo-ramDeterministic-v0)\n",
      "EnvSpec(Kangaroo-ramDeterministic-v4)\n",
      "EnvSpec(Kangaroo-ramNoFrameskip-v0)\n",
      "EnvSpec(Kangaroo-ramNoFrameskip-v4)\n",
      "EnvSpec(Krull-v0)\n",
      "EnvSpec(Krull-v4)\n",
      "EnvSpec(KrullDeterministic-v0)\n",
      "EnvSpec(KrullDeterministic-v4)\n",
      "EnvSpec(KrullNoFrameskip-v0)\n",
      "EnvSpec(KrullNoFrameskip-v4)\n",
      "EnvSpec(Krull-ram-v0)\n",
      "EnvSpec(Krull-ram-v4)\n",
      "EnvSpec(Krull-ramDeterministic-v0)\n",
      "EnvSpec(Krull-ramDeterministic-v4)\n",
      "EnvSpec(Krull-ramNoFrameskip-v0)\n",
      "EnvSpec(Krull-ramNoFrameskip-v4)\n",
      "EnvSpec(KungFuMaster-v0)\n",
      "EnvSpec(KungFuMaster-v4)\n",
      "EnvSpec(KungFuMasterDeterministic-v0)\n",
      "EnvSpec(KungFuMasterDeterministic-v4)\n",
      "EnvSpec(KungFuMasterNoFrameskip-v0)\n",
      "EnvSpec(KungFuMasterNoFrameskip-v4)\n",
      "EnvSpec(KungFuMaster-ram-v0)\n",
      "EnvSpec(KungFuMaster-ram-v4)\n",
      "EnvSpec(KungFuMaster-ramDeterministic-v0)\n",
      "EnvSpec(KungFuMaster-ramDeterministic-v4)\n",
      "EnvSpec(KungFuMaster-ramNoFrameskip-v0)\n",
      "EnvSpec(KungFuMaster-ramNoFrameskip-v4)\n",
      "EnvSpec(MontezumaRevenge-v0)\n",
      "EnvSpec(MontezumaRevenge-v4)\n",
      "EnvSpec(MontezumaRevengeDeterministic-v0)\n",
      "EnvSpec(MontezumaRevengeDeterministic-v4)\n",
      "EnvSpec(MontezumaRevengeNoFrameskip-v0)\n",
      "EnvSpec(MontezumaRevengeNoFrameskip-v4)\n",
      "EnvSpec(MontezumaRevenge-ram-v0)\n",
      "EnvSpec(MontezumaRevenge-ram-v4)\n",
      "EnvSpec(MontezumaRevenge-ramDeterministic-v0)\n",
      "EnvSpec(MontezumaRevenge-ramDeterministic-v4)\n",
      "EnvSpec(MontezumaRevenge-ramNoFrameskip-v0)\n",
      "EnvSpec(MontezumaRevenge-ramNoFrameskip-v4)\n",
      "EnvSpec(MsPacman-v0)\n",
      "EnvSpec(MsPacman-v4)\n",
      "EnvSpec(MsPacmanDeterministic-v0)\n",
      "EnvSpec(MsPacmanDeterministic-v4)\n",
      "EnvSpec(MsPacmanNoFrameskip-v0)\n",
      "EnvSpec(MsPacmanNoFrameskip-v4)\n",
      "EnvSpec(MsPacman-ram-v0)\n",
      "EnvSpec(MsPacman-ram-v4)\n",
      "EnvSpec(MsPacman-ramDeterministic-v0)\n",
      "EnvSpec(MsPacman-ramDeterministic-v4)\n",
      "EnvSpec(MsPacman-ramNoFrameskip-v0)\n",
      "EnvSpec(MsPacman-ramNoFrameskip-v4)\n",
      "EnvSpec(NameThisGame-v0)\n",
      "EnvSpec(NameThisGame-v4)\n",
      "EnvSpec(NameThisGameDeterministic-v0)\n",
      "EnvSpec(NameThisGameDeterministic-v4)\n",
      "EnvSpec(NameThisGameNoFrameskip-v0)\n",
      "EnvSpec(NameThisGameNoFrameskip-v4)\n",
      "EnvSpec(NameThisGame-ram-v0)\n",
      "EnvSpec(NameThisGame-ram-v4)\n",
      "EnvSpec(NameThisGame-ramDeterministic-v0)\n",
      "EnvSpec(NameThisGame-ramDeterministic-v4)\n",
      "EnvSpec(NameThisGame-ramNoFrameskip-v0)\n",
      "EnvSpec(NameThisGame-ramNoFrameskip-v4)\n",
      "EnvSpec(Phoenix-v0)\n",
      "EnvSpec(Phoenix-v4)\n",
      "EnvSpec(PhoenixDeterministic-v0)\n",
      "EnvSpec(PhoenixDeterministic-v4)\n",
      "EnvSpec(PhoenixNoFrameskip-v0)\n",
      "EnvSpec(PhoenixNoFrameskip-v4)\n",
      "EnvSpec(Phoenix-ram-v0)\n",
      "EnvSpec(Phoenix-ram-v4)\n",
      "EnvSpec(Phoenix-ramDeterministic-v0)\n",
      "EnvSpec(Phoenix-ramDeterministic-v4)\n",
      "EnvSpec(Phoenix-ramNoFrameskip-v0)\n",
      "EnvSpec(Phoenix-ramNoFrameskip-v4)\n",
      "EnvSpec(Pitfall-v0)\n",
      "EnvSpec(Pitfall-v4)\n",
      "EnvSpec(PitfallDeterministic-v0)\n",
      "EnvSpec(PitfallDeterministic-v4)\n",
      "EnvSpec(PitfallNoFrameskip-v0)\n",
      "EnvSpec(PitfallNoFrameskip-v4)\n",
      "EnvSpec(Pitfall-ram-v0)\n",
      "EnvSpec(Pitfall-ram-v4)\n",
      "EnvSpec(Pitfall-ramDeterministic-v0)\n",
      "EnvSpec(Pitfall-ramDeterministic-v4)\n",
      "EnvSpec(Pitfall-ramNoFrameskip-v0)\n",
      "EnvSpec(Pitfall-ramNoFrameskip-v4)\n",
      "EnvSpec(Pong-v0)\n",
      "EnvSpec(Pong-v4)\n",
      "EnvSpec(PongDeterministic-v0)\n",
      "EnvSpec(PongDeterministic-v4)\n",
      "EnvSpec(PongNoFrameskip-v0)\n",
      "EnvSpec(PongNoFrameskip-v4)\n",
      "EnvSpec(Pong-ram-v0)\n",
      "EnvSpec(Pong-ram-v4)\n",
      "EnvSpec(Pong-ramDeterministic-v0)\n",
      "EnvSpec(Pong-ramDeterministic-v4)\n",
      "EnvSpec(Pong-ramNoFrameskip-v0)\n",
      "EnvSpec(Pong-ramNoFrameskip-v4)\n",
      "EnvSpec(Pooyan-v0)\n",
      "EnvSpec(Pooyan-v4)\n",
      "EnvSpec(PooyanDeterministic-v0)\n",
      "EnvSpec(PooyanDeterministic-v4)\n",
      "EnvSpec(PooyanNoFrameskip-v0)\n",
      "EnvSpec(PooyanNoFrameskip-v4)\n",
      "EnvSpec(Pooyan-ram-v0)\n",
      "EnvSpec(Pooyan-ram-v4)\n",
      "EnvSpec(Pooyan-ramDeterministic-v0)\n",
      "EnvSpec(Pooyan-ramDeterministic-v4)\n",
      "EnvSpec(Pooyan-ramNoFrameskip-v0)\n",
      "EnvSpec(Pooyan-ramNoFrameskip-v4)\n",
      "EnvSpec(PrivateEye-v0)\n",
      "EnvSpec(PrivateEye-v4)\n",
      "EnvSpec(PrivateEyeDeterministic-v0)\n",
      "EnvSpec(PrivateEyeDeterministic-v4)\n",
      "EnvSpec(PrivateEyeNoFrameskip-v0)\n",
      "EnvSpec(PrivateEyeNoFrameskip-v4)\n",
      "EnvSpec(PrivateEye-ram-v0)\n",
      "EnvSpec(PrivateEye-ram-v4)\n",
      "EnvSpec(PrivateEye-ramDeterministic-v0)\n",
      "EnvSpec(PrivateEye-ramDeterministic-v4)\n",
      "EnvSpec(PrivateEye-ramNoFrameskip-v0)\n",
      "EnvSpec(PrivateEye-ramNoFrameskip-v4)\n",
      "EnvSpec(Qbert-v0)\n",
      "EnvSpec(Qbert-v4)\n",
      "EnvSpec(QbertDeterministic-v0)\n",
      "EnvSpec(QbertDeterministic-v4)\n",
      "EnvSpec(QbertNoFrameskip-v0)\n",
      "EnvSpec(QbertNoFrameskip-v4)\n",
      "EnvSpec(Qbert-ram-v0)\n",
      "EnvSpec(Qbert-ram-v4)\n",
      "EnvSpec(Qbert-ramDeterministic-v0)\n",
      "EnvSpec(Qbert-ramDeterministic-v4)\n",
      "EnvSpec(Qbert-ramNoFrameskip-v0)\n",
      "EnvSpec(Qbert-ramNoFrameskip-v4)\n",
      "EnvSpec(Riverraid-v0)\n",
      "EnvSpec(Riverraid-v4)\n",
      "EnvSpec(RiverraidDeterministic-v0)\n",
      "EnvSpec(RiverraidDeterministic-v4)\n",
      "EnvSpec(RiverraidNoFrameskip-v0)\n",
      "EnvSpec(RiverraidNoFrameskip-v4)\n",
      "EnvSpec(Riverraid-ram-v0)\n",
      "EnvSpec(Riverraid-ram-v4)\n",
      "EnvSpec(Riverraid-ramDeterministic-v0)\n",
      "EnvSpec(Riverraid-ramDeterministic-v4)\n",
      "EnvSpec(Riverraid-ramNoFrameskip-v0)\n",
      "EnvSpec(Riverraid-ramNoFrameskip-v4)\n",
      "EnvSpec(RoadRunner-v0)\n",
      "EnvSpec(RoadRunner-v4)\n",
      "EnvSpec(RoadRunnerDeterministic-v0)\n",
      "EnvSpec(RoadRunnerDeterministic-v4)\n",
      "EnvSpec(RoadRunnerNoFrameskip-v0)\n",
      "EnvSpec(RoadRunnerNoFrameskip-v4)\n",
      "EnvSpec(RoadRunner-ram-v0)\n",
      "EnvSpec(RoadRunner-ram-v4)\n",
      "EnvSpec(RoadRunner-ramDeterministic-v0)\n",
      "EnvSpec(RoadRunner-ramDeterministic-v4)\n",
      "EnvSpec(RoadRunner-ramNoFrameskip-v0)\n",
      "EnvSpec(RoadRunner-ramNoFrameskip-v4)\n",
      "EnvSpec(Robotank-v0)\n",
      "EnvSpec(Robotank-v4)\n",
      "EnvSpec(RobotankDeterministic-v0)\n",
      "EnvSpec(RobotankDeterministic-v4)\n",
      "EnvSpec(RobotankNoFrameskip-v0)\n",
      "EnvSpec(RobotankNoFrameskip-v4)\n",
      "EnvSpec(Robotank-ram-v0)\n",
      "EnvSpec(Robotank-ram-v4)\n",
      "EnvSpec(Robotank-ramDeterministic-v0)\n",
      "EnvSpec(Robotank-ramDeterministic-v4)\n",
      "EnvSpec(Robotank-ramNoFrameskip-v0)\n",
      "EnvSpec(Robotank-ramNoFrameskip-v4)\n",
      "EnvSpec(Seaquest-v0)\n",
      "EnvSpec(Seaquest-v4)\n",
      "EnvSpec(SeaquestDeterministic-v0)\n",
      "EnvSpec(SeaquestDeterministic-v4)\n",
      "EnvSpec(SeaquestNoFrameskip-v0)\n",
      "EnvSpec(SeaquestNoFrameskip-v4)\n",
      "EnvSpec(Seaquest-ram-v0)\n",
      "EnvSpec(Seaquest-ram-v4)\n",
      "EnvSpec(Seaquest-ramDeterministic-v0)\n",
      "EnvSpec(Seaquest-ramDeterministic-v4)\n",
      "EnvSpec(Seaquest-ramNoFrameskip-v0)\n",
      "EnvSpec(Seaquest-ramNoFrameskip-v4)\n",
      "EnvSpec(Skiing-v0)\n",
      "EnvSpec(Skiing-v4)\n",
      "EnvSpec(SkiingDeterministic-v0)\n",
      "EnvSpec(SkiingDeterministic-v4)\n",
      "EnvSpec(SkiingNoFrameskip-v0)\n",
      "EnvSpec(SkiingNoFrameskip-v4)\n",
      "EnvSpec(Skiing-ram-v0)\n",
      "EnvSpec(Skiing-ram-v4)\n",
      "EnvSpec(Skiing-ramDeterministic-v0)\n",
      "EnvSpec(Skiing-ramDeterministic-v4)\n",
      "EnvSpec(Skiing-ramNoFrameskip-v0)\n",
      "EnvSpec(Skiing-ramNoFrameskip-v4)\n",
      "EnvSpec(Solaris-v0)\n",
      "EnvSpec(Solaris-v4)\n",
      "EnvSpec(SolarisDeterministic-v0)\n",
      "EnvSpec(SolarisDeterministic-v4)\n",
      "EnvSpec(SolarisNoFrameskip-v0)\n",
      "EnvSpec(SolarisNoFrameskip-v4)\n",
      "EnvSpec(Solaris-ram-v0)\n",
      "EnvSpec(Solaris-ram-v4)\n",
      "EnvSpec(Solaris-ramDeterministic-v0)\n",
      "EnvSpec(Solaris-ramDeterministic-v4)\n",
      "EnvSpec(Solaris-ramNoFrameskip-v0)\n",
      "EnvSpec(Solaris-ramNoFrameskip-v4)\n",
      "EnvSpec(SpaceInvaders-v0)\n",
      "EnvSpec(SpaceInvaders-v4)\n",
      "EnvSpec(SpaceInvadersDeterministic-v0)\n",
      "EnvSpec(SpaceInvadersDeterministic-v4)\n",
      "EnvSpec(SpaceInvadersNoFrameskip-v0)\n",
      "EnvSpec(SpaceInvadersNoFrameskip-v4)\n",
      "EnvSpec(SpaceInvaders-ram-v0)\n",
      "EnvSpec(SpaceInvaders-ram-v4)\n",
      "EnvSpec(SpaceInvaders-ramDeterministic-v0)\n",
      "EnvSpec(SpaceInvaders-ramDeterministic-v4)\n",
      "EnvSpec(SpaceInvaders-ramNoFrameskip-v0)\n",
      "EnvSpec(SpaceInvaders-ramNoFrameskip-v4)\n",
      "EnvSpec(StarGunner-v0)\n",
      "EnvSpec(StarGunner-v4)\n",
      "EnvSpec(StarGunnerDeterministic-v0)\n",
      "EnvSpec(StarGunnerDeterministic-v4)\n",
      "EnvSpec(StarGunnerNoFrameskip-v0)\n",
      "EnvSpec(StarGunnerNoFrameskip-v4)\n",
      "EnvSpec(StarGunner-ram-v0)\n",
      "EnvSpec(StarGunner-ram-v4)\n",
      "EnvSpec(StarGunner-ramDeterministic-v0)\n",
      "EnvSpec(StarGunner-ramDeterministic-v4)\n",
      "EnvSpec(StarGunner-ramNoFrameskip-v0)\n",
      "EnvSpec(StarGunner-ramNoFrameskip-v4)\n",
      "EnvSpec(Tennis-v0)\n",
      "EnvSpec(Tennis-v4)\n",
      "EnvSpec(TennisDeterministic-v0)\n",
      "EnvSpec(TennisDeterministic-v4)\n",
      "EnvSpec(TennisNoFrameskip-v0)\n",
      "EnvSpec(TennisNoFrameskip-v4)\n",
      "EnvSpec(Tennis-ram-v0)\n",
      "EnvSpec(Tennis-ram-v4)\n",
      "EnvSpec(Tennis-ramDeterministic-v0)\n",
      "EnvSpec(Tennis-ramDeterministic-v4)\n",
      "EnvSpec(Tennis-ramNoFrameskip-v0)\n",
      "EnvSpec(Tennis-ramNoFrameskip-v4)\n",
      "EnvSpec(TimePilot-v0)\n",
      "EnvSpec(TimePilot-v4)\n",
      "EnvSpec(TimePilotDeterministic-v0)\n",
      "EnvSpec(TimePilotDeterministic-v4)\n",
      "EnvSpec(TimePilotNoFrameskip-v0)\n",
      "EnvSpec(TimePilotNoFrameskip-v4)\n",
      "EnvSpec(TimePilot-ram-v0)\n",
      "EnvSpec(TimePilot-ram-v4)\n",
      "EnvSpec(TimePilot-ramDeterministic-v0)\n",
      "EnvSpec(TimePilot-ramDeterministic-v4)\n",
      "EnvSpec(TimePilot-ramNoFrameskip-v0)\n",
      "EnvSpec(TimePilot-ramNoFrameskip-v4)\n",
      "EnvSpec(Tutankham-v0)\n",
      "EnvSpec(Tutankham-v4)\n",
      "EnvSpec(TutankhamDeterministic-v0)\n",
      "EnvSpec(TutankhamDeterministic-v4)\n",
      "EnvSpec(TutankhamNoFrameskip-v0)\n",
      "EnvSpec(TutankhamNoFrameskip-v4)\n",
      "EnvSpec(Tutankham-ram-v0)\n",
      "EnvSpec(Tutankham-ram-v4)\n",
      "EnvSpec(Tutankham-ramDeterministic-v0)\n",
      "EnvSpec(Tutankham-ramDeterministic-v4)\n",
      "EnvSpec(Tutankham-ramNoFrameskip-v0)\n",
      "EnvSpec(Tutankham-ramNoFrameskip-v4)\n",
      "EnvSpec(UpNDown-v0)\n",
      "EnvSpec(UpNDown-v4)\n",
      "EnvSpec(UpNDownDeterministic-v0)\n",
      "EnvSpec(UpNDownDeterministic-v4)\n",
      "EnvSpec(UpNDownNoFrameskip-v0)\n",
      "EnvSpec(UpNDownNoFrameskip-v4)\n",
      "EnvSpec(UpNDown-ram-v0)\n",
      "EnvSpec(UpNDown-ram-v4)\n",
      "EnvSpec(UpNDown-ramDeterministic-v0)\n",
      "EnvSpec(UpNDown-ramDeterministic-v4)\n",
      "EnvSpec(UpNDown-ramNoFrameskip-v0)\n",
      "EnvSpec(UpNDown-ramNoFrameskip-v4)\n",
      "EnvSpec(Venture-v0)\n",
      "EnvSpec(Venture-v4)\n",
      "EnvSpec(VentureDeterministic-v0)\n",
      "EnvSpec(VentureDeterministic-v4)\n",
      "EnvSpec(VentureNoFrameskip-v0)\n",
      "EnvSpec(VentureNoFrameskip-v4)\n",
      "EnvSpec(Venture-ram-v0)\n",
      "EnvSpec(Venture-ram-v4)\n",
      "EnvSpec(Venture-ramDeterministic-v0)\n",
      "EnvSpec(Venture-ramDeterministic-v4)\n",
      "EnvSpec(Venture-ramNoFrameskip-v0)\n",
      "EnvSpec(Venture-ramNoFrameskip-v4)\n",
      "EnvSpec(VideoPinball-v0)\n",
      "EnvSpec(VideoPinball-v4)\n",
      "EnvSpec(VideoPinballDeterministic-v0)\n",
      "EnvSpec(VideoPinballDeterministic-v4)\n",
      "EnvSpec(VideoPinballNoFrameskip-v0)\n",
      "EnvSpec(VideoPinballNoFrameskip-v4)\n",
      "EnvSpec(VideoPinball-ram-v0)\n",
      "EnvSpec(VideoPinball-ram-v4)\n",
      "EnvSpec(VideoPinball-ramDeterministic-v0)\n",
      "EnvSpec(VideoPinball-ramDeterministic-v4)\n",
      "EnvSpec(VideoPinball-ramNoFrameskip-v0)\n",
      "EnvSpec(VideoPinball-ramNoFrameskip-v4)\n",
      "EnvSpec(WizardOfWor-v0)\n",
      "EnvSpec(WizardOfWor-v4)\n",
      "EnvSpec(WizardOfWorDeterministic-v0)\n",
      "EnvSpec(WizardOfWorDeterministic-v4)\n",
      "EnvSpec(WizardOfWorNoFrameskip-v0)\n",
      "EnvSpec(WizardOfWorNoFrameskip-v4)\n",
      "EnvSpec(WizardOfWor-ram-v0)\n",
      "EnvSpec(WizardOfWor-ram-v4)\n",
      "EnvSpec(WizardOfWor-ramDeterministic-v0)\n",
      "EnvSpec(WizardOfWor-ramDeterministic-v4)\n",
      "EnvSpec(WizardOfWor-ramNoFrameskip-v0)\n",
      "EnvSpec(WizardOfWor-ramNoFrameskip-v4)\n",
      "EnvSpec(YarsRevenge-v0)\n",
      "EnvSpec(YarsRevenge-v4)\n",
      "EnvSpec(YarsRevengeDeterministic-v0)\n",
      "EnvSpec(YarsRevengeDeterministic-v4)\n",
      "EnvSpec(YarsRevengeNoFrameskip-v0)\n",
      "EnvSpec(YarsRevengeNoFrameskip-v4)\n",
      "EnvSpec(YarsRevenge-ram-v0)\n",
      "EnvSpec(YarsRevenge-ram-v4)\n",
      "EnvSpec(YarsRevenge-ramDeterministic-v0)\n",
      "EnvSpec(YarsRevenge-ramDeterministic-v4)\n",
      "EnvSpec(YarsRevenge-ramNoFrameskip-v0)\n",
      "EnvSpec(YarsRevenge-ramNoFrameskip-v4)\n",
      "EnvSpec(Zaxxon-v0)\n",
      "EnvSpec(Zaxxon-v4)\n",
      "EnvSpec(ZaxxonDeterministic-v0)\n",
      "EnvSpec(ZaxxonDeterministic-v4)\n",
      "EnvSpec(ZaxxonNoFrameskip-v0)\n",
      "EnvSpec(ZaxxonNoFrameskip-v4)\n",
      "EnvSpec(Zaxxon-ram-v0)\n",
      "EnvSpec(Zaxxon-ram-v4)\n",
      "EnvSpec(Zaxxon-ramDeterministic-v0)\n",
      "EnvSpec(Zaxxon-ramDeterministic-v4)\n",
      "EnvSpec(Zaxxon-ramNoFrameskip-v0)\n",
      "EnvSpec(Zaxxon-ramNoFrameskip-v4)\n",
      "EnvSpec(CubeCrash-v0)\n",
      "EnvSpec(CubeCrashSparse-v0)\n",
      "EnvSpec(CubeCrashScreenBecomesBlack-v0)\n",
      "EnvSpec(MemorizeDigits-v0)\n"
     ]
    }
   ],
   "source": [
    "import gym\n",
    "D = gym.envs.registry.all()\n",
    "for k in D:\n",
    "    print (k)"
   ]
  },
  {
   "cell_type": "code",
   "execution_count": 1,
   "metadata": {
    "collapsed": true,
    "jupyter": {
     "outputs_hidden": true
    }
   },
   "outputs": [
    {
     "name": "stderr",
     "output_type": "stream",
     "text": [
      "d:\\python\\lib\\site-packages\\tensorflow\\python\\framework\\dtypes.py:516: FutureWarning: Passing (type, 1) or '1type' as a synonym of type is deprecated; in a future version of numpy, it will be understood as (type, (1,)) / '(1,)type'.\n",
      "  _np_qint8 = np.dtype([(\"qint8\", np.int8, 1)])\n",
      "d:\\python\\lib\\site-packages\\tensorflow\\python\\framework\\dtypes.py:517: FutureWarning: Passing (type, 1) or '1type' as a synonym of type is deprecated; in a future version of numpy, it will be understood as (type, (1,)) / '(1,)type'.\n",
      "  _np_quint8 = np.dtype([(\"quint8\", np.uint8, 1)])\n",
      "d:\\python\\lib\\site-packages\\tensorflow\\python\\framework\\dtypes.py:518: FutureWarning: Passing (type, 1) or '1type' as a synonym of type is deprecated; in a future version of numpy, it will be understood as (type, (1,)) / '(1,)type'.\n",
      "  _np_qint16 = np.dtype([(\"qint16\", np.int16, 1)])\n",
      "d:\\python\\lib\\site-packages\\tensorflow\\python\\framework\\dtypes.py:519: FutureWarning: Passing (type, 1) or '1type' as a synonym of type is deprecated; in a future version of numpy, it will be understood as (type, (1,)) / '(1,)type'.\n",
      "  _np_quint16 = np.dtype([(\"quint16\", np.uint16, 1)])\n",
      "d:\\python\\lib\\site-packages\\tensorflow\\python\\framework\\dtypes.py:520: FutureWarning: Passing (type, 1) or '1type' as a synonym of type is deprecated; in a future version of numpy, it will be understood as (type, (1,)) / '(1,)type'.\n",
      "  _np_qint32 = np.dtype([(\"qint32\", np.int32, 1)])\n",
      "d:\\python\\lib\\site-packages\\tensorflow\\python\\framework\\dtypes.py:525: FutureWarning: Passing (type, 1) or '1type' as a synonym of type is deprecated; in a future version of numpy, it will be understood as (type, (1,)) / '(1,)type'.\n",
      "  np_resource = np.dtype([(\"resource\", np.ubyte, 1)])\n",
      "d:\\python\\lib\\site-packages\\tensorboard\\compat\\tensorflow_stub\\dtypes.py:541: FutureWarning: Passing (type, 1) or '1type' as a synonym of type is deprecated; in a future version of numpy, it will be understood as (type, (1,)) / '(1,)type'.\n",
      "  _np_qint8 = np.dtype([(\"qint8\", np.int8, 1)])\n",
      "d:\\python\\lib\\site-packages\\tensorboard\\compat\\tensorflow_stub\\dtypes.py:542: FutureWarning: Passing (type, 1) or '1type' as a synonym of type is deprecated; in a future version of numpy, it will be understood as (type, (1,)) / '(1,)type'.\n",
      "  _np_quint8 = np.dtype([(\"quint8\", np.uint8, 1)])\n",
      "d:\\python\\lib\\site-packages\\tensorboard\\compat\\tensorflow_stub\\dtypes.py:543: FutureWarning: Passing (type, 1) or '1type' as a synonym of type is deprecated; in a future version of numpy, it will be understood as (type, (1,)) / '(1,)type'.\n",
      "  _np_qint16 = np.dtype([(\"qint16\", np.int16, 1)])\n",
      "d:\\python\\lib\\site-packages\\tensorboard\\compat\\tensorflow_stub\\dtypes.py:544: FutureWarning: Passing (type, 1) or '1type' as a synonym of type is deprecated; in a future version of numpy, it will be understood as (type, (1,)) / '(1,)type'.\n",
      "  _np_quint16 = np.dtype([(\"quint16\", np.uint16, 1)])\n",
      "d:\\python\\lib\\site-packages\\tensorboard\\compat\\tensorflow_stub\\dtypes.py:545: FutureWarning: Passing (type, 1) or '1type' as a synonym of type is deprecated; in a future version of numpy, it will be understood as (type, (1,)) / '(1,)type'.\n",
      "  _np_qint32 = np.dtype([(\"qint32\", np.int32, 1)])\n",
      "d:\\python\\lib\\site-packages\\tensorboard\\compat\\tensorflow_stub\\dtypes.py:550: FutureWarning: Passing (type, 1) or '1type' as a synonym of type is deprecated; in a future version of numpy, it will be understood as (type, (1,)) / '(1,)type'.\n",
      "  np_resource = np.dtype([(\"resource\", np.ubyte, 1)])\n"
     ]
    }
   ],
   "source": [
    "import tensorflow as tf"
   ]
  },
  {
   "cell_type": "code",
   "execution_count": 131,
   "metadata": {},
   "outputs": [],
   "source": [
    "tf.reset_default_graph()\n",
    "a = tf.get_variable('a',shape=[4,2,3])\n",
    "c = tf.Variable([0.0,0.0,1.0])"
   ]
  },
  {
   "cell_type": "code",
   "execution_count": 132,
   "metadata": {},
   "outputs": [
    {
     "name": "stdout",
     "output_type": "stream",
     "text": [
      "[<tf.Variable 'a:0' shape=(4, 2, 3) dtype=float32_ref>, <tf.Variable 'Variable:0' shape=(3,) dtype=float32_ref>]\n"
     ]
    }
   ],
   "source": [
    "h = []\n",
    "h.append(a)\n",
    "h.append(c)\n",
    "print(h)"
   ]
  },
  {
   "cell_type": "code",
   "execution_count": 135,
   "metadata": {},
   "outputs": [],
   "source": [
    "with tf.Session() as sess:\n",
    "    sess.run(tf.global_variables_initializer())\n",
    "    T = a*c\n",
    "    z = T.eval()"
   ]
  },
  {
   "cell_type": "code",
   "execution_count": 136,
   "metadata": {},
   "outputs": [
    {
     "data": {
      "text/plain": [
       "array([[[ 0.        ,  0.        ,  0.09679776],\n",
       "        [ 0.        ,  0.        ,  0.02095062]],\n",
       "\n",
       "       [[-0.        , -0.        ,  0.127096  ],\n",
       "        [ 0.        ,  0.        ,  0.3134573 ]],\n",
       "\n",
       "       [[ 0.        ,  0.        , -0.17461407],\n",
       "        [ 0.        ,  0.        , -0.10240638]],\n",
       "\n",
       "       [[ 0.        , -0.        , -0.3380077 ],\n",
       "        [ 0.        ,  0.        , -0.2406326 ]]], dtype=float32)"
      ]
     },
     "execution_count": 136,
     "metadata": {},
     "output_type": "execute_result"
    }
   ],
   "source": [
    "z"
   ]
  },
  {
   "cell_type": "code",
   "execution_count": 79,
   "metadata": {},
   "outputs": [
    {
     "data": {
      "text/plain": [
       "(4, 3, 3)"
      ]
     },
     "execution_count": 79,
     "metadata": {},
     "output_type": "execute_result"
    }
   ],
   "source": [
    "y.shape"
   ]
  },
  {
   "cell_type": "code",
   "execution_count": 80,
   "metadata": {},
   "outputs": [
    {
     "data": {
      "text/plain": [
       "(4, 3, 3)"
      ]
     },
     "execution_count": 80,
     "metadata": {},
     "output_type": "execute_result"
    }
   ],
   "source": [
    "z.shape"
   ]
  },
  {
   "cell_type": "code",
   "execution_count": 81,
   "metadata": {},
   "outputs": [
    {
     "data": {
      "text/plain": [
       "4"
      ]
     },
     "execution_count": 81,
     "metadata": {},
     "output_type": "execute_result"
    }
   ],
   "source": [
    "a.shape[0].value"
   ]
  },
  {
   "cell_type": "code",
   "execution_count": 90,
   "metadata": {},
   "outputs": [
    {
     "data": {
      "text/plain": [
       "(4, 2, 2)"
      ]
     },
     "execution_count": 90,
     "metadata": {},
     "output_type": "execute_result"
    }
   ],
   "source": [
    "h.shape"
   ]
  },
  {
   "cell_type": "code",
   "execution_count": 140,
   "metadata": {},
   "outputs": [
    {
     "data": {
      "text/plain": [
       "[4, 2, 3]"
      ]
     },
     "execution_count": 140,
     "metadata": {},
     "output_type": "execute_result"
    }
   ],
   "source": [
    "T.get_shape().as_list()"
   ]
  },
  {
   "cell_type": "code",
   "execution_count": null,
   "metadata": {},
   "outputs": [],
   "source": []
  }
 ],
 "metadata": {
  "kernelspec": {
   "display_name": "Python 3",
   "language": "python",
   "name": "python3"
  },
  "language_info": {
   "codemirror_mode": {
    "name": "ipython",
    "version": 3
   },
   "file_extension": ".py",
   "mimetype": "text/x-python",
   "name": "python",
   "nbconvert_exporter": "python",
   "pygments_lexer": "ipython3",
   "version": "3.7.4"
  }
 },
 "nbformat": 4,
 "nbformat_minor": 4
}
